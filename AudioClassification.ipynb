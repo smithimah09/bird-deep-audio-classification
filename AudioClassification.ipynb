{
  "nbformat": 4,
  "nbformat_minor": 0,
  "metadata": {
    "colab": {
      "provenance": []
    },
    "kernelspec": {
      "name": "python3",
      "display_name": "Python 3"
    },
    "language_info": {
      "name": "python"
    }
  },
  "cells": [
    {
      "cell_type": "code",
      "execution_count": null,
      "metadata": {
        "colab": {
          "base_uri": "https://localhost:8080/"
        },
        "id": "z6H283n80F9K",
        "outputId": "1d1d62f7-c040-4636-bbb9-35f3daaa9b6d"
      },
      "outputs": [
        {
          "output_type": "stream",
          "name": "stdout",
          "text": [
            "📂 Scanning: https://neat-cities-clean.loca.lt/data/\n",
            "📂 Scanning: https://neat-cities-clean.loca.lt/data/Forest Recordings/\n",
            "📂 Scanning: https://neat-cities-clean.loca.lt/data/Parsed_Capuchinbird_Clips/\n",
            "📂 Scanning: https://neat-cities-clean.loca.lt/data/Parsed_Not_Capuchinbird_Clips/\n",
            "⬇️ Downloading: https://neat-cities-clean.loca.lt/data/Forest Recordings/recording_00.mp3\n",
            "⬇️ Downloading: https://neat-cities-clean.loca.lt/data/Forest Recordings/recording_01.mp3\n",
            "⬇️ Downloading: https://neat-cities-clean.loca.lt/data/Forest Recordings/recording_02.mp3\n",
            "⬇️ Downloading: https://neat-cities-clean.loca.lt/data/Forest Recordings/recording_03.mp3\n",
            "⬇️ Downloading: https://neat-cities-clean.loca.lt/data/Forest Recordings/recording_04.mp3\n",
            "⬇️ Downloading: https://neat-cities-clean.loca.lt/data/Forest Recordings/recording_05.mp3\n",
            "⬇️ Downloading: https://neat-cities-clean.loca.lt/data/Forest Recordings/recording_06.mp3\n",
            "⬇️ Downloading: https://neat-cities-clean.loca.lt/data/Forest Recordings/recording_07.mp3\n",
            "⬇️ Downloading: https://neat-cities-clean.loca.lt/data/Forest Recordings/recording_08.mp3\n",
            "⬇️ Downloading: https://neat-cities-clean.loca.lt/data/Forest Recordings/recording_09.mp3\n",
            "⬇️ Downloading: https://neat-cities-clean.loca.lt/data/Forest Recordings/recording_10.mp3\n",
            "⬇️ Downloading: https://neat-cities-clean.loca.lt/data/Forest Recordings/recording_11.mp3\n",
            "⬇️ Downloading: https://neat-cities-clean.loca.lt/data/Forest Recordings/recording_12.mp3\n",
            "⬇️ Downloading: https://neat-cities-clean.loca.lt/data/Forest Recordings/recording_13.mp3\n",
            "⬇️ Downloading: https://neat-cities-clean.loca.lt/data/Forest Recordings/recording_14.mp3\n",
            "⬇️ Downloading: https://neat-cities-clean.loca.lt/data/Forest Recordings/recording_15.mp3\n",
            "⬇️ Downloading: https://neat-cities-clean.loca.lt/data/Forest Recordings/recording_16.mp3\n",
            "⬇️ Downloading: https://neat-cities-clean.loca.lt/data/Forest Recordings/recording_17.mp3\n",
            "⬇️ Downloading: https://neat-cities-clean.loca.lt/data/Forest Recordings/recording_18.mp3\n",
            "⬇️ Downloading: https://neat-cities-clean.loca.lt/data/Forest Recordings/recording_19.mp3\n",
            "⬇️ Downloading: https://neat-cities-clean.loca.lt/data/Forest Recordings/recording_20.mp3\n",
            "⬇️ Downloading: https://neat-cities-clean.loca.lt/data/Forest Recordings/recording_21.mp3\n",
            "⬇️ Downloading: https://neat-cities-clean.loca.lt/data/Forest Recordings/recording_22.mp3\n",
            "⬇️ Downloading: https://neat-cities-clean.loca.lt/data/Forest Recordings/recording_23.mp3\n",
            "⬇️ Downloading: https://neat-cities-clean.loca.lt/data/Forest Recordings/recording_24.mp3\n",
            "⬇️ Downloading: https://neat-cities-clean.loca.lt/data/Forest Recordings/recording_25.mp3\n",
            "⬇️ Downloading: https://neat-cities-clean.loca.lt/data/Forest Recordings/recording_26.mp3\n",
            "⬇️ Downloading: https://neat-cities-clean.loca.lt/data/Forest Recordings/recording_27.mp3\n",
            "⬇️ Downloading: https://neat-cities-clean.loca.lt/data/Forest Recordings/recording_28.mp3\n",
            "⬇️ Downloading: https://neat-cities-clean.loca.lt/data/Forest Recordings/recording_29.mp3\n",
            "⬇️ Downloading: https://neat-cities-clean.loca.lt/data/Forest Recordings/recording_30.mp3\n",
            "⬇️ Downloading: https://neat-cities-clean.loca.lt/data/Forest Recordings/recording_31.mp3\n",
            "⬇️ Downloading: https://neat-cities-clean.loca.lt/data/Forest Recordings/recording_32.mp3\n",
            "⬇️ Downloading: https://neat-cities-clean.loca.lt/data/Forest Recordings/recording_33.mp3\n",
            "⬇️ Downloading: https://neat-cities-clean.loca.lt/data/Forest Recordings/recording_34.mp3\n",
            "⬇️ Downloading: https://neat-cities-clean.loca.lt/data/Forest Recordings/recording_35.mp3\n",
            "⬇️ Downloading: https://neat-cities-clean.loca.lt/data/Forest Recordings/recording_36.mp3\n",
            "⬇️ Downloading: https://neat-cities-clean.loca.lt/data/Forest Recordings/recording_37.mp3\n",
            "⬇️ Downloading: https://neat-cities-clean.loca.lt/data/Forest Recordings/recording_38.mp3\n",
            "⬇️ Downloading: https://neat-cities-clean.loca.lt/data/Forest Recordings/recording_39.mp3\n",
            "⬇️ Downloading: https://neat-cities-clean.loca.lt/data/Forest Recordings/recording_40.mp3\n",
            "⬇️ Downloading: https://neat-cities-clean.loca.lt/data/Forest Recordings/recording_41.mp3\n",
            "⬇️ Downloading: https://neat-cities-clean.loca.lt/data/Forest Recordings/recording_42.mp3\n",
            "⬇️ Downloading: https://neat-cities-clean.loca.lt/data/Forest Recordings/recording_43.mp3\n",
            "⬇️ Downloading: https://neat-cities-clean.loca.lt/data/Forest Recordings/recording_44.mp3\n",
            "⬇️ Downloading: https://neat-cities-clean.loca.lt/data/Forest Recordings/recording_45.mp3\n",
            "⬇️ Downloading: https://neat-cities-clean.loca.lt/data/Forest Recordings/recording_46.mp3\n",
            "⬇️ Downloading: https://neat-cities-clean.loca.lt/data/Forest Recordings/recording_47.mp3\n",
            "⬇️ Downloading: https://neat-cities-clean.loca.lt/data/Forest Recordings/recording_48.mp3\n",
            "⬇️ Downloading: https://neat-cities-clean.loca.lt/data/Forest Recordings/recording_49.mp3\n",
            "⬇️ Downloading: https://neat-cities-clean.loca.lt/data/Forest Recordings/recording_50.mp3\n",
            "⬇️ Downloading: https://neat-cities-clean.loca.lt/data/Forest Recordings/recording_51.mp3\n",
            "⬇️ Downloading: https://neat-cities-clean.loca.lt/data/Forest Recordings/recording_52.mp3\n",
            "⬇️ Downloading: https://neat-cities-clean.loca.lt/data/Forest Recordings/recording_53.mp3\n",
            "⬇️ Downloading: https://neat-cities-clean.loca.lt/data/Forest Recordings/recording_54.mp3\n",
            "⬇️ Downloading: https://neat-cities-clean.loca.lt/data/Forest Recordings/recording_55.mp3\n",
            "⬇️ Downloading: https://neat-cities-clean.loca.lt/data/Forest Recordings/recording_56.mp3\n",
            "⬇️ Downloading: https://neat-cities-clean.loca.lt/data/Forest Recordings/recording_57.mp3\n",
            "⬇️ Downloading: https://neat-cities-clean.loca.lt/data/Forest Recordings/recording_58.mp3\n",
            "⬇️ Downloading: https://neat-cities-clean.loca.lt/data/Forest Recordings/recording_59.mp3\n",
            "⬇️ Downloading: https://neat-cities-clean.loca.lt/data/Forest Recordings/recording_60.mp3\n",
            "⬇️ Downloading: https://neat-cities-clean.loca.lt/data/Forest Recordings/recording_61.mp3\n",
            "⬇️ Downloading: https://neat-cities-clean.loca.lt/data/Forest Recordings/recording_62.mp3\n",
            "⬇️ Downloading: https://neat-cities-clean.loca.lt/data/Forest Recordings/recording_63.mp3\n",
            "⬇️ Downloading: https://neat-cities-clean.loca.lt/data/Forest Recordings/recording_64.mp3\n",
            "⬇️ Downloading: https://neat-cities-clean.loca.lt/data/Forest Recordings/recording_65.mp3\n",
            "⬇️ Downloading: https://neat-cities-clean.loca.lt/data/Forest Recordings/recording_66.mp3\n",
            "⬇️ Downloading: https://neat-cities-clean.loca.lt/data/Forest Recordings/recording_67.mp3\n",
            "⬇️ Downloading: https://neat-cities-clean.loca.lt/data/Forest Recordings/recording_68.mp3\n",
            "⬇️ Downloading: https://neat-cities-clean.loca.lt/data/Forest Recordings/recording_69.mp3\n",
            "⬇️ Downloading: https://neat-cities-clean.loca.lt/data/Forest Recordings/recording_70.mp3\n",
            "⬇️ Downloading: https://neat-cities-clean.loca.lt/data/Forest Recordings/recording_71.mp3\n",
            "⬇️ Downloading: https://neat-cities-clean.loca.lt/data/Forest Recordings/recording_72.mp3\n",
            "⬇️ Downloading: https://neat-cities-clean.loca.lt/data/Forest Recordings/recording_73.mp3\n",
            "⬇️ Downloading: https://neat-cities-clean.loca.lt/data/Forest Recordings/recording_74.mp3\n",
            "⬇️ Downloading: https://neat-cities-clean.loca.lt/data/Forest Recordings/recording_75.mp3\n",
            "⬇️ Downloading: https://neat-cities-clean.loca.lt/data/Forest Recordings/recording_76.mp3\n",
            "⬇️ Downloading: https://neat-cities-clean.loca.lt/data/Forest Recordings/recording_77.mp3\n",
            "⬇️ Downloading: https://neat-cities-clean.loca.lt/data/Forest Recordings/recording_78.mp3\n",
            "⬇️ Downloading: https://neat-cities-clean.loca.lt/data/Forest Recordings/recording_79.mp3\n",
            "⬇️ Downloading: https://neat-cities-clean.loca.lt/data/Forest Recordings/recording_80.mp3\n",
            "⬇️ Downloading: https://neat-cities-clean.loca.lt/data/Forest Recordings/recording_81.mp3\n",
            "⬇️ Downloading: https://neat-cities-clean.loca.lt/data/Forest Recordings/recording_82.mp3\n",
            "⬇️ Downloading: https://neat-cities-clean.loca.lt/data/Forest Recordings/recording_83.mp3\n",
            "⬇️ Downloading: https://neat-cities-clean.loca.lt/data/Forest Recordings/recording_84.mp3\n",
            "⬇️ Downloading: https://neat-cities-clean.loca.lt/data/Forest Recordings/recording_85.mp3\n",
            "⬇️ Downloading: https://neat-cities-clean.loca.lt/data/Forest Recordings/recording_86.mp3\n",
            "⬇️ Downloading: https://neat-cities-clean.loca.lt/data/Forest Recordings/recording_87.mp3\n",
            "⬇️ Downloading: https://neat-cities-clean.loca.lt/data/Forest Recordings/recording_88.mp3\n",
            "⬇️ Downloading: https://neat-cities-clean.loca.lt/data/Forest Recordings/recording_89.mp3\n",
            "⬇️ Downloading: https://neat-cities-clean.loca.lt/data/Forest Recordings/recording_90.mp3\n",
            "⬇️ Downloading: https://neat-cities-clean.loca.lt/data/Forest Recordings/recording_91.mp3\n",
            "⬇️ Downloading: https://neat-cities-clean.loca.lt/data/Forest Recordings/recording_92.mp3\n",
            "⬇️ Downloading: https://neat-cities-clean.loca.lt/data/Forest Recordings/recording_93.mp3\n",
            "⬇️ Downloading: https://neat-cities-clean.loca.lt/data/Forest Recordings/recording_94.mp3\n",
            "⬇️ Downloading: https://neat-cities-clean.loca.lt/data/Forest Recordings/recording_95.mp3\n",
            "⬇️ Downloading: https://neat-cities-clean.loca.lt/data/Forest Recordings/recording_96.mp3\n",
            "⬇️ Downloading: https://neat-cities-clean.loca.lt/data/Forest Recordings/recording_97.mp3\n",
            "⬇️ Downloading: https://neat-cities-clean.loca.lt/data/Forest Recordings/recording_98.mp3\n",
            "⬇️ Downloading: https://neat-cities-clean.loca.lt/data/Forest Recordings/recording_99.mp3\n",
            "⬇️ Downloading: https://neat-cities-clean.loca.lt/data/Parsed_Capuchinbird_Clips/XC114131-0.wav\n",
            "⬇️ Downloading: https://neat-cities-clean.loca.lt/data/Parsed_Capuchinbird_Clips/XC114131-1.wav\n",
            "⬇️ Downloading: https://neat-cities-clean.loca.lt/data/Parsed_Capuchinbird_Clips/XC114131-2.wav\n",
            "⬇️ Downloading: https://neat-cities-clean.loca.lt/data/Parsed_Capuchinbird_Clips/XC114131-3.wav\n",
            "⬇️ Downloading: https://neat-cities-clean.loca.lt/data/Parsed_Capuchinbird_Clips/XC114131-4.wav\n",
            "⬇️ Downloading: https://neat-cities-clean.loca.lt/data/Parsed_Capuchinbird_Clips/XC114132-0.wav\n",
            "⬇️ Downloading: https://neat-cities-clean.loca.lt/data/Parsed_Capuchinbird_Clips/XC114132-1.wav\n",
            "⬇️ Downloading: https://neat-cities-clean.loca.lt/data/Parsed_Capuchinbird_Clips/XC114132-2.wav\n",
            "⬇️ Downloading: https://neat-cities-clean.loca.lt/data/Parsed_Capuchinbird_Clips/XC114132-3.wav\n",
            "⬇️ Downloading: https://neat-cities-clean.loca.lt/data/Parsed_Capuchinbird_Clips/XC114132-4.wav\n",
            "⬇️ Downloading: https://neat-cities-clean.loca.lt/data/Parsed_Capuchinbird_Clips/XC114132-5.wav\n",
            "⬇️ Downloading: https://neat-cities-clean.loca.lt/data/Parsed_Capuchinbird_Clips/XC114132-6.wav\n",
            "⬇️ Downloading: https://neat-cities-clean.loca.lt/data/Parsed_Capuchinbird_Clips/XC119294-0.wav\n",
            "⬇️ Downloading: https://neat-cities-clean.loca.lt/data/Parsed_Capuchinbird_Clips/XC16803-0.wav\n",
            "⬇️ Downloading: https://neat-cities-clean.loca.lt/data/Parsed_Capuchinbird_Clips/XC16803-1.wav\n",
            "⬇️ Downloading: https://neat-cities-clean.loca.lt/data/Parsed_Capuchinbird_Clips/XC16803-2.wav\n",
            "⬇️ Downloading: https://neat-cities-clean.loca.lt/data/Parsed_Capuchinbird_Clips/XC16804-0.wav\n",
            "⬇️ Downloading: https://neat-cities-clean.loca.lt/data/Parsed_Capuchinbird_Clips/XC16804-1.wav\n",
            "⬇️ Downloading: https://neat-cities-clean.loca.lt/data/Parsed_Capuchinbird_Clips/XC168899-0.wav\n",
            "⬇️ Downloading: https://neat-cities-clean.loca.lt/data/Parsed_Capuchinbird_Clips/XC178167-0.wav\n",
            "⬇️ Downloading: https://neat-cities-clean.loca.lt/data/Parsed_Capuchinbird_Clips/XC178167-1.wav\n",
            "⬇️ Downloading: https://neat-cities-clean.loca.lt/data/Parsed_Capuchinbird_Clips/XC178167-2.wav\n",
            "⬇️ Downloading: https://neat-cities-clean.loca.lt/data/Parsed_Capuchinbird_Clips/XC178167-3.wav\n",
            "⬇️ Downloading: https://neat-cities-clean.loca.lt/data/Parsed_Capuchinbird_Clips/XC178168-0.wav\n",
            "⬇️ Downloading: https://neat-cities-clean.loca.lt/data/Parsed_Capuchinbird_Clips/XC178168-1.wav\n",
            "⬇️ Downloading: https://neat-cities-clean.loca.lt/data/Parsed_Capuchinbird_Clips/XC178168-2.wav\n",
            "⬇️ Downloading: https://neat-cities-clean.loca.lt/data/Parsed_Capuchinbird_Clips/XC178168-3.wav\n",
            "⬇️ Downloading: https://neat-cities-clean.loca.lt/data/Parsed_Capuchinbird_Clips/XC178168-4.wav\n",
            "⬇️ Downloading: https://neat-cities-clean.loca.lt/data/Parsed_Capuchinbird_Clips/XC178168-5.wav\n",
            "⬇️ Downloading: https://neat-cities-clean.loca.lt/data/Parsed_Capuchinbird_Clips/XC178168-6.wav\n",
            "⬇️ Downloading: https://neat-cities-clean.loca.lt/data/Parsed_Capuchinbird_Clips/XC178168-7.wav\n",
            "⬇️ Downloading: https://neat-cities-clean.loca.lt/data/Parsed_Capuchinbird_Clips/XC201990-0.wav\n",
            "⬇️ Downloading: https://neat-cities-clean.loca.lt/data/Parsed_Capuchinbird_Clips/XC201990-1.wav\n",
            "⬇️ Downloading: https://neat-cities-clean.loca.lt/data/Parsed_Capuchinbird_Clips/XC201990-2.wav\n",
            "⬇️ Downloading: https://neat-cities-clean.loca.lt/data/Parsed_Capuchinbird_Clips/XC201990-3.wav\n",
            "⬇️ Downloading: https://neat-cities-clean.loca.lt/data/Parsed_Capuchinbird_Clips/XC201990-4.wav\n",
            "⬇️ Downloading: https://neat-cities-clean.loca.lt/data/Parsed_Capuchinbird_Clips/XC201990-5.wav\n",
            "⬇️ Downloading: https://neat-cities-clean.loca.lt/data/Parsed_Capuchinbird_Clips/XC216010-0.wav\n",
            "⬇️ Downloading: https://neat-cities-clean.loca.lt/data/Parsed_Capuchinbird_Clips/XC216010-1.wav\n",
            "⬇️ Downloading: https://neat-cities-clean.loca.lt/data/Parsed_Capuchinbird_Clips/XC216010-2.wav\n",
            "⬇️ Downloading: https://neat-cities-clean.loca.lt/data/Parsed_Capuchinbird_Clips/XC216010-3.wav\n",
            "⬇️ Downloading: https://neat-cities-clean.loca.lt/data/Parsed_Capuchinbird_Clips/XC216010-4.wav\n",
            "⬇️ Downloading: https://neat-cities-clean.loca.lt/data/Parsed_Capuchinbird_Clips/XC216010-5.wav\n",
            "⬇️ Downloading: https://neat-cities-clean.loca.lt/data/Parsed_Capuchinbird_Clips/XC216010-6.wav\n",
            "⬇️ Downloading: https://neat-cities-clean.loca.lt/data/Parsed_Capuchinbird_Clips/XC216010-7.wav\n",
            "⬇️ Downloading: https://neat-cities-clean.loca.lt/data/Parsed_Capuchinbird_Clips/XC216012-0.wav\n",
            "⬇️ Downloading: https://neat-cities-clean.loca.lt/data/Parsed_Capuchinbird_Clips/XC216012-1.wav\n",
            "⬇️ Downloading: https://neat-cities-clean.loca.lt/data/Parsed_Capuchinbird_Clips/XC216012-10.wav\n",
            "⬇️ Downloading: https://neat-cities-clean.loca.lt/data/Parsed_Capuchinbird_Clips/XC216012-11.wav\n",
            "⬇️ Downloading: https://neat-cities-clean.loca.lt/data/Parsed_Capuchinbird_Clips/XC216012-12.wav\n",
            "⬇️ Downloading: https://neat-cities-clean.loca.lt/data/Parsed_Capuchinbird_Clips/XC216012-13.wav\n",
            "⬇️ Downloading: https://neat-cities-clean.loca.lt/data/Parsed_Capuchinbird_Clips/XC216012-14.wav\n",
            "⬇️ Downloading: https://neat-cities-clean.loca.lt/data/Parsed_Capuchinbird_Clips/XC216012-15.wav\n",
            "⬇️ Downloading: https://neat-cities-clean.loca.lt/data/Parsed_Capuchinbird_Clips/XC216012-16.wav\n",
            "⬇️ Downloading: https://neat-cities-clean.loca.lt/data/Parsed_Capuchinbird_Clips/XC216012-17.wav\n",
            "⬇️ Downloading: https://neat-cities-clean.loca.lt/data/Parsed_Capuchinbird_Clips/XC216012-18.wav\n",
            "⬇️ Downloading: https://neat-cities-clean.loca.lt/data/Parsed_Capuchinbird_Clips/XC216012-19.wav\n",
            "⬇️ Downloading: https://neat-cities-clean.loca.lt/data/Parsed_Capuchinbird_Clips/XC216012-2.wav\n",
            "⬇️ Downloading: https://neat-cities-clean.loca.lt/data/Parsed_Capuchinbird_Clips/XC216012-20.wav\n",
            "⬇️ Downloading: https://neat-cities-clean.loca.lt/data/Parsed_Capuchinbird_Clips/XC216012-3.wav\n",
            "⬇️ Downloading: https://neat-cities-clean.loca.lt/data/Parsed_Capuchinbird_Clips/XC216012-4.wav\n",
            "⬇️ Downloading: https://neat-cities-clean.loca.lt/data/Parsed_Capuchinbird_Clips/XC216012-5.wav\n",
            "⬇️ Downloading: https://neat-cities-clean.loca.lt/data/Parsed_Capuchinbird_Clips/XC216012-6.wav\n",
            "⬇️ Downloading: https://neat-cities-clean.loca.lt/data/Parsed_Capuchinbird_Clips/XC216012-7.wav\n",
            "⬇️ Downloading: https://neat-cities-clean.loca.lt/data/Parsed_Capuchinbird_Clips/XC216012-8.wav\n",
            "⬇️ Downloading: https://neat-cities-clean.loca.lt/data/Parsed_Capuchinbird_Clips/XC216012-9.wav\n",
            "⬇️ Downloading: https://neat-cities-clean.loca.lt/data/Parsed_Capuchinbird_Clips/XC22397-0.wav\n",
            "⬇️ Downloading: https://neat-cities-clean.loca.lt/data/Parsed_Capuchinbird_Clips/XC22397-1.wav\n",
            "⬇️ Downloading: https://neat-cities-clean.loca.lt/data/Parsed_Capuchinbird_Clips/XC22397-2.wav\n",
            "⬇️ Downloading: https://neat-cities-clean.loca.lt/data/Parsed_Capuchinbird_Clips/XC22397-3.wav\n",
            "⬇️ Downloading: https://neat-cities-clean.loca.lt/data/Parsed_Capuchinbird_Clips/XC22397-4.wav\n",
            "⬇️ Downloading: https://neat-cities-clean.loca.lt/data/Parsed_Capuchinbird_Clips/XC22397-5.wav\n",
            "⬇️ Downloading: https://neat-cities-clean.loca.lt/data/Parsed_Capuchinbird_Clips/XC22397-6.wav\n",
            "⬇️ Downloading: https://neat-cities-clean.loca.lt/data/Parsed_Capuchinbird_Clips/XC22397-7.wav\n",
            "⬇️ Downloading: https://neat-cities-clean.loca.lt/data/Parsed_Capuchinbird_Clips/XC227468-0.wav\n",
            "⬇️ Downloading: https://neat-cities-clean.loca.lt/data/Parsed_Capuchinbird_Clips/XC227468-1.wav\n",
            "⬇️ Downloading: https://neat-cities-clean.loca.lt/data/Parsed_Capuchinbird_Clips/XC227468-2.wav\n",
            "⬇️ Downloading: https://neat-cities-clean.loca.lt/data/Parsed_Capuchinbird_Clips/XC227468-3.wav\n",
            "⬇️ Downloading: https://neat-cities-clean.loca.lt/data/Parsed_Capuchinbird_Clips/XC227468-4.wav\n",
            "⬇️ Downloading: https://neat-cities-clean.loca.lt/data/Parsed_Capuchinbird_Clips/XC227468-5.wav\n",
            "⬇️ Downloading: https://neat-cities-clean.loca.lt/data/Parsed_Capuchinbird_Clips/XC227469-0.wav\n",
            "⬇️ Downloading: https://neat-cities-clean.loca.lt/data/Parsed_Capuchinbird_Clips/XC227469-1.wav\n",
            "⬇️ Downloading: https://neat-cities-clean.loca.lt/data/Parsed_Capuchinbird_Clips/XC227469-2.wav\n",
            "⬇️ Downloading: https://neat-cities-clean.loca.lt/data/Parsed_Capuchinbird_Clips/XC227469-3.wav\n",
            "⬇️ Downloading: https://neat-cities-clean.loca.lt/data/Parsed_Capuchinbird_Clips/XC227469-4.wav\n",
            "⬇️ Downloading: https://neat-cities-clean.loca.lt/data/Parsed_Capuchinbird_Clips/XC227471-0.wav\n",
            "⬇️ Downloading: https://neat-cities-clean.loca.lt/data/Parsed_Capuchinbird_Clips/XC227471-1.wav\n",
            "⬇️ Downloading: https://neat-cities-clean.loca.lt/data/Parsed_Capuchinbird_Clips/XC227471-2.wav\n",
            "⬇️ Downloading: https://neat-cities-clean.loca.lt/data/Parsed_Capuchinbird_Clips/XC227471-3.wav\n",
            "⬇️ Downloading: https://neat-cities-clean.loca.lt/data/Parsed_Capuchinbird_Clips/XC227471-4.wav\n",
            "⬇️ Downloading: https://neat-cities-clean.loca.lt/data/Parsed_Capuchinbird_Clips/XC227471-5.wav\n",
            "⬇️ Downloading: https://neat-cities-clean.loca.lt/data/Parsed_Capuchinbird_Clips/XC227471-6.wav\n",
            "⬇️ Downloading: https://neat-cities-clean.loca.lt/data/Parsed_Capuchinbird_Clips/XC227471-7.wav\n",
            "⬇️ Downloading: https://neat-cities-clean.loca.lt/data/Parsed_Capuchinbird_Clips/XC27881-0.wav\n",
            "⬇️ Downloading: https://neat-cities-clean.loca.lt/data/Parsed_Capuchinbird_Clips/XC27881-1.wav\n",
            "⬇️ Downloading: https://neat-cities-clean.loca.lt/data/Parsed_Capuchinbird_Clips/XC27881-2.wav\n",
            "⬇️ Downloading: https://neat-cities-clean.loca.lt/data/Parsed_Capuchinbird_Clips/XC27881-3.wav\n",
            "⬇️ Downloading: https://neat-cities-clean.loca.lt/data/Parsed_Capuchinbird_Clips/XC27882-0.wav\n",
            "⬇️ Downloading: https://neat-cities-clean.loca.lt/data/Parsed_Capuchinbird_Clips/XC27882-1.wav\n",
            "⬇️ Downloading: https://neat-cities-clean.loca.lt/data/Parsed_Capuchinbird_Clips/XC27882-2.wav\n",
            "⬇️ Downloading: https://neat-cities-clean.loca.lt/data/Parsed_Capuchinbird_Clips/XC27882-3.wav\n",
            "⬇️ Downloading: https://neat-cities-clean.loca.lt/data/Parsed_Capuchinbird_Clips/XC27882-4.wav\n",
            "⬇️ Downloading: https://neat-cities-clean.loca.lt/data/Parsed_Capuchinbird_Clips/XC27882-5.wav\n",
            "⬇️ Downloading: https://neat-cities-clean.loca.lt/data/Parsed_Capuchinbird_Clips/XC27882-6.wav\n",
            "⬇️ Downloading: https://neat-cities-clean.loca.lt/data/Parsed_Capuchinbird_Clips/XC307385-0.wav\n",
            "⬇️ Downloading: https://neat-cities-clean.loca.lt/data/Parsed_Capuchinbird_Clips/XC307385-1.wav\n",
            "⬇️ Downloading: https://neat-cities-clean.loca.lt/data/Parsed_Capuchinbird_Clips/XC307385-2.wav\n",
            "⬇️ Downloading: https://neat-cities-clean.loca.lt/data/Parsed_Capuchinbird_Clips/XC307385-3.wav\n",
            "⬇️ Downloading: https://neat-cities-clean.loca.lt/data/Parsed_Capuchinbird_Clips/XC307385-4.wav\n",
            "⬇️ Downloading: https://neat-cities-clean.loca.lt/data/Parsed_Capuchinbird_Clips/XC3776-0.wav\n",
            "⬇️ Downloading: https://neat-cities-clean.loca.lt/data/Parsed_Capuchinbird_Clips/XC3776-1.wav\n",
            "⬇️ Downloading: https://neat-cities-clean.loca.lt/data/Parsed_Capuchinbird_Clips/XC3776-2.wav\n",
            "⬇️ Downloading: https://neat-cities-clean.loca.lt/data/Parsed_Capuchinbird_Clips/XC3776-3.wav\n",
            "⬇️ Downloading: https://neat-cities-clean.loca.lt/data/Parsed_Capuchinbird_Clips/XC3776-4.wav\n",
            "⬇️ Downloading: https://neat-cities-clean.loca.lt/data/Parsed_Capuchinbird_Clips/XC3776-5.wav\n",
            "⬇️ Downloading: https://neat-cities-clean.loca.lt/data/Parsed_Capuchinbird_Clips/XC3776-6.wav\n",
            "⬇️ Downloading: https://neat-cities-clean.loca.lt/data/Parsed_Capuchinbird_Clips/XC387509-0.wav\n",
            "⬇️ Downloading: https://neat-cities-clean.loca.lt/data/Parsed_Capuchinbird_Clips/XC387509-1.wav\n",
            "⬇️ Downloading: https://neat-cities-clean.loca.lt/data/Parsed_Capuchinbird_Clips/XC387509-2.wav\n",
            "⬇️ Downloading: https://neat-cities-clean.loca.lt/data/Parsed_Capuchinbird_Clips/XC387509-3.wav\n",
            "⬇️ Downloading: https://neat-cities-clean.loca.lt/data/Parsed_Capuchinbird_Clips/XC387509-4.wav\n",
            "⬇️ Downloading: https://neat-cities-clean.loca.lt/data/Parsed_Capuchinbird_Clips/XC387509-5.wav\n",
            "⬇️ Downloading: https://neat-cities-clean.loca.lt/data/Parsed_Capuchinbird_Clips/XC388470-0.wav\n",
            "⬇️ Downloading: https://neat-cities-clean.loca.lt/data/Parsed_Capuchinbird_Clips/XC388470-1.wav\n",
            "⬇️ Downloading: https://neat-cities-clean.loca.lt/data/Parsed_Capuchinbird_Clips/XC388470-2.wav\n",
            "⬇️ Downloading: https://neat-cities-clean.loca.lt/data/Parsed_Capuchinbird_Clips/XC388470-3.wav\n",
            "⬇️ Downloading: https://neat-cities-clean.loca.lt/data/Parsed_Capuchinbird_Clips/XC388470-4.wav\n",
            "⬇️ Downloading: https://neat-cities-clean.loca.lt/data/Parsed_Capuchinbird_Clips/XC388470-5.wav\n",
            "⬇️ Downloading: https://neat-cities-clean.loca.lt/data/Parsed_Capuchinbird_Clips/XC388470-6.wav\n",
            "⬇️ Downloading: https://neat-cities-clean.loca.lt/data/Parsed_Capuchinbird_Clips/XC395129-0.wav\n",
            "⬇️ Downloading: https://neat-cities-clean.loca.lt/data/Parsed_Capuchinbird_Clips/XC395129-1.wav\n",
            "⬇️ Downloading: https://neat-cities-clean.loca.lt/data/Parsed_Capuchinbird_Clips/XC395129-2.wav\n",
            "⬇️ Downloading: https://neat-cities-clean.loca.lt/data/Parsed_Capuchinbird_Clips/XC395129-3.wav\n",
            "⬇️ Downloading: https://neat-cities-clean.loca.lt/data/Parsed_Capuchinbird_Clips/XC395129-4.wav\n",
            "⬇️ Downloading: https://neat-cities-clean.loca.lt/data/Parsed_Capuchinbird_Clips/XC395129-5.wav\n",
            "⬇️ Downloading: https://neat-cities-clean.loca.lt/data/Parsed_Capuchinbird_Clips/XC395129-6.wav\n",
            "⬇️ Downloading: https://neat-cities-clean.loca.lt/data/Parsed_Capuchinbird_Clips/XC401294-0.wav\n",
            "⬇️ Downloading: https://neat-cities-clean.loca.lt/data/Parsed_Capuchinbird_Clips/XC40355-0.wav\n",
            "⬇️ Downloading: https://neat-cities-clean.loca.lt/data/Parsed_Capuchinbird_Clips/XC433953-0.wav\n",
            "⬇️ Downloading: https://neat-cities-clean.loca.lt/data/Parsed_Capuchinbird_Clips/XC433953-1.wav\n",
            "⬇️ Downloading: https://neat-cities-clean.loca.lt/data/Parsed_Capuchinbird_Clips/XC433953-10.wav\n",
            "⬇️ Downloading: https://neat-cities-clean.loca.lt/data/Parsed_Capuchinbird_Clips/XC433953-2.wav\n",
            "⬇️ Downloading: https://neat-cities-clean.loca.lt/data/Parsed_Capuchinbird_Clips/XC433953-3.wav\n",
            "⬇️ Downloading: https://neat-cities-clean.loca.lt/data/Parsed_Capuchinbird_Clips/XC433953-4.wav\n",
            "⬇️ Downloading: https://neat-cities-clean.loca.lt/data/Parsed_Capuchinbird_Clips/XC433953-5.wav\n",
            "⬇️ Downloading: https://neat-cities-clean.loca.lt/data/Parsed_Capuchinbird_Clips/XC433953-6.wav\n",
            "⬇️ Downloading: https://neat-cities-clean.loca.lt/data/Parsed_Capuchinbird_Clips/XC433953-7.wav\n",
            "⬇️ Downloading: https://neat-cities-clean.loca.lt/data/Parsed_Capuchinbird_Clips/XC433953-8.wav\n",
            "⬇️ Downloading: https://neat-cities-clean.loca.lt/data/Parsed_Capuchinbird_Clips/XC433953-9.wav\n",
            "⬇️ Downloading: https://neat-cities-clean.loca.lt/data/Parsed_Capuchinbird_Clips/XC44070-0.wav\n",
            "⬇️ Downloading: https://neat-cities-clean.loca.lt/data/Parsed_Capuchinbird_Clips/XC44070-1.wav\n",
            "⬇️ Downloading: https://neat-cities-clean.loca.lt/data/Parsed_Capuchinbird_Clips/XC44070-2.wav\n",
            "⬇️ Downloading: https://neat-cities-clean.loca.lt/data/Parsed_Capuchinbird_Clips/XC456236-0.wav\n",
            "⬇️ Downloading: https://neat-cities-clean.loca.lt/data/Parsed_Capuchinbird_Clips/XC456236-1.wav\n",
            "⬇️ Downloading: https://neat-cities-clean.loca.lt/data/Parsed_Capuchinbird_Clips/XC456236-2.wav\n",
            "⬇️ Downloading: https://neat-cities-clean.loca.lt/data/Parsed_Capuchinbird_Clips/XC456236-3.wav\n",
            "⬇️ Downloading: https://neat-cities-clean.loca.lt/data/Parsed_Capuchinbird_Clips/XC456236-4.wav\n",
            "⬇️ Downloading: https://neat-cities-clean.loca.lt/data/Parsed_Capuchinbird_Clips/XC456314-0.wav\n",
            "⬇️ Downloading: https://neat-cities-clean.loca.lt/data/Parsed_Capuchinbird_Clips/XC46077-0.wav\n",
            "⬇️ Downloading: https://neat-cities-clean.loca.lt/data/Parsed_Capuchinbird_Clips/XC46077-1.wav\n",
            "⬇️ Downloading: https://neat-cities-clean.loca.lt/data/Parsed_Capuchinbird_Clips/XC46077-2.wav\n",
            "⬇️ Downloading: https://neat-cities-clean.loca.lt/data/Parsed_Capuchinbird_Clips/XC46241-0.wav\n",
            "⬇️ Downloading: https://neat-cities-clean.loca.lt/data/Parsed_Capuchinbird_Clips/XC46241-1.wav\n",
            "⬇️ Downloading: https://neat-cities-clean.loca.lt/data/Parsed_Capuchinbird_Clips/XC46241-2.wav\n",
            "⬇️ Downloading: https://neat-cities-clean.loca.lt/data/Parsed_Capuchinbird_Clips/XC46241-3.wav\n",
            "⬇️ Downloading: https://neat-cities-clean.loca.lt/data/Parsed_Capuchinbird_Clips/XC46241-4.wav\n",
            "⬇️ Downloading: https://neat-cities-clean.loca.lt/data/Parsed_Capuchinbird_Clips/XC46241-5.wav\n",
            "⬇️ Downloading: https://neat-cities-clean.loca.lt/data/Parsed_Capuchinbird_Clips/XC479556-0.wav\n",
            "⬇️ Downloading: https://neat-cities-clean.loca.lt/data/Parsed_Capuchinbird_Clips/XC495697-0.wav\n",
            "⬇️ Downloading: https://neat-cities-clean.loca.lt/data/Parsed_Capuchinbird_Clips/XC495697-1.wav\n",
            "⬇️ Downloading: https://neat-cities-clean.loca.lt/data/Parsed_Capuchinbird_Clips/XC495697-2.wav\n",
            "⬇️ Downloading: https://neat-cities-clean.loca.lt/data/Parsed_Capuchinbird_Clips/XC495697-3.wav\n",
            "⬇️ Downloading: https://neat-cities-clean.loca.lt/data/Parsed_Capuchinbird_Clips/XC495697-4.wav\n",
            "⬇️ Downloading: https://neat-cities-clean.loca.lt/data/Parsed_Capuchinbird_Clips/XC513083-0.wav\n",
            "⬇️ Downloading: https://neat-cities-clean.loca.lt/data/Parsed_Capuchinbird_Clips/XC513083-1.wav\n",
            "⬇️ Downloading: https://neat-cities-clean.loca.lt/data/Parsed_Capuchinbird_Clips/XC513083-2.wav\n",
            "⬇️ Downloading: https://neat-cities-clean.loca.lt/data/Parsed_Capuchinbird_Clips/XC520626-0.wav\n",
            "⬇️ Downloading: https://neat-cities-clean.loca.lt/data/Parsed_Capuchinbird_Clips/XC520626-1.wav\n",
            "⬇️ Downloading: https://neat-cities-clean.loca.lt/data/Parsed_Capuchinbird_Clips/XC520626-2.wav\n",
            "⬇️ Downloading: https://neat-cities-clean.loca.lt/data/Parsed_Capuchinbird_Clips/XC520626-3.wav\n",
            "⬇️ Downloading: https://neat-cities-clean.loca.lt/data/Parsed_Capuchinbird_Clips/XC526106-0.wav\n",
            "⬇️ Downloading: https://neat-cities-clean.loca.lt/data/Parsed_Capuchinbird_Clips/XC526106-1.wav\n",
            "⬇️ Downloading: https://neat-cities-clean.loca.lt/data/Parsed_Capuchinbird_Clips/XC526106-2.wav\n",
            "⬇️ Downloading: https://neat-cities-clean.loca.lt/data/Parsed_Capuchinbird_Clips/XC526106-3.wav\n",
            "⬇️ Downloading: https://neat-cities-clean.loca.lt/data/Parsed_Capuchinbird_Clips/XC526106-4.wav\n",
            "⬇️ Downloading: https://neat-cities-clean.loca.lt/data/Parsed_Capuchinbird_Clips/XC526106-5.wav\n",
            "⬇️ Downloading: https://neat-cities-clean.loca.lt/data/Parsed_Capuchinbird_Clips/XC574020-0.wav\n",
            "⬇️ Downloading: https://neat-cities-clean.loca.lt/data/Parsed_Capuchinbird_Clips/XC574021-0.wav\n",
            "⬇️ Downloading: https://neat-cities-clean.loca.lt/data/Parsed_Capuchinbird_Clips/XC600460-0.wav\n",
            "⬇️ Downloading: https://neat-cities-clean.loca.lt/data/Parsed_Capuchinbird_Clips/XC600460-1.wav\n",
            "⬇️ Downloading: https://neat-cities-clean.loca.lt/data/Parsed_Capuchinbird_Clips/XC600460-2.wav\n",
            "⬇️ Downloading: https://neat-cities-clean.loca.lt/data/Parsed_Capuchinbird_Clips/XC600460-3.wav\n",
            "⬇️ Downloading: https://neat-cities-clean.loca.lt/data/Parsed_Capuchinbird_Clips/XC600460-4.wav\n",
            "⬇️ Downloading: https://neat-cities-clean.loca.lt/data/Parsed_Capuchinbird_Clips/XC600460-5.wav\n",
            "⬇️ Downloading: https://neat-cities-clean.loca.lt/data/Parsed_Capuchinbird_Clips/XC65195-0.wav\n",
            "⬇️ Downloading: https://neat-cities-clean.loca.lt/data/Parsed_Capuchinbird_Clips/XC65196-0.wav\n",
            "⬇️ Downloading: https://neat-cities-clean.loca.lt/data/Parsed_Capuchinbird_Clips/XC65196-1.wav\n",
            "⬇️ Downloading: https://neat-cities-clean.loca.lt/data/Parsed_Capuchinbird_Clips/XC65196-2.wav\n",
            "⬇️ Downloading: https://neat-cities-clean.loca.lt/data/Parsed_Capuchinbird_Clips/XC65196-3.wav\n",
            "⬇️ Downloading: https://neat-cities-clean.loca.lt/data/Parsed_Capuchinbird_Clips/XC65196-4.wav\n",
            "⬇️ Downloading: https://neat-cities-clean.loca.lt/data/Parsed_Capuchinbird_Clips/XC79965-0.wav\n",
            "⬇️ Downloading: https://neat-cities-clean.loca.lt/data/Parsed_Capuchinbird_Clips/XC79965-1.wav\n",
            "⬇️ Downloading: https://neat-cities-clean.loca.lt/data/Parsed_Capuchinbird_Clips/XC79965-10.wav\n",
            "⬇️ Downloading: https://neat-cities-clean.loca.lt/data/Parsed_Capuchinbird_Clips/XC79965-2.wav\n",
            "⬇️ Downloading: https://neat-cities-clean.loca.lt/data/Parsed_Capuchinbird_Clips/XC79965-3.wav\n",
            "⬇️ Downloading: https://neat-cities-clean.loca.lt/data/Parsed_Capuchinbird_Clips/XC79965-4.wav\n",
            "⬇️ Downloading: https://neat-cities-clean.loca.lt/data/Parsed_Capuchinbird_Clips/XC79965-5.wav\n",
            "⬇️ Downloading: https://neat-cities-clean.loca.lt/data/Parsed_Capuchinbird_Clips/XC79965-6.wav\n",
            "⬇️ Downloading: https://neat-cities-clean.loca.lt/data/Parsed_Capuchinbird_Clips/XC79965-7.wav\n",
            "⬇️ Downloading: https://neat-cities-clean.loca.lt/data/Parsed_Capuchinbird_Clips/XC79965-8.wav\n",
            "⬇️ Downloading: https://neat-cities-clean.loca.lt/data/Parsed_Capuchinbird_Clips/XC79965-9.wav\n",
            "⬇️ Downloading: https://neat-cities-clean.loca.lt/data/Parsed_Capuchinbird_Clips/XC9221-0.wav\n",
            "⬇️ Downloading: https://neat-cities-clean.loca.lt/data/Parsed_Capuchinbird_Clips/XC9221-1.wav\n",
            "⬇️ Downloading: https://neat-cities-clean.loca.lt/data/Parsed_Capuchinbird_Clips/XC9221-2.wav\n",
            "⬇️ Downloading: https://neat-cities-clean.loca.lt/data/Parsed_Capuchinbird_Clips/XC98557-0.wav\n",
            "⬇️ Downloading: https://neat-cities-clean.loca.lt/data/Parsed_Capuchinbird_Clips/XC98557-1.wav\n",
            "⬇️ Downloading: https://neat-cities-clean.loca.lt/data/Parsed_Capuchinbird_Clips/XC9892-0.wav\n",
            "⬇️ Downloading: https://neat-cities-clean.loca.lt/data/Parsed_Not_Capuchinbird_Clips/afternoon-birds-song-in-forest-0.wav\n",
            "⬇️ Downloading: https://neat-cities-clean.loca.lt/data/Parsed_Not_Capuchinbird_Clips/afternoon-birds-song-in-forest-1.wav\n",
            "⬇️ Downloading: https://neat-cities-clean.loca.lt/data/Parsed_Not_Capuchinbird_Clips/afternoon-birds-song-in-forest-10.wav\n",
            "⬇️ Downloading: https://neat-cities-clean.loca.lt/data/Parsed_Not_Capuchinbird_Clips/afternoon-birds-song-in-forest-11.wav\n",
            "⬇️ Downloading: https://neat-cities-clean.loca.lt/data/Parsed_Not_Capuchinbird_Clips/afternoon-birds-song-in-forest-12.wav\n",
            "⬇️ Downloading: https://neat-cities-clean.loca.lt/data/Parsed_Not_Capuchinbird_Clips/afternoon-birds-song-in-forest-13.wav\n",
            "⬇️ Downloading: https://neat-cities-clean.loca.lt/data/Parsed_Not_Capuchinbird_Clips/afternoon-birds-song-in-forest-14.wav\n",
            "⬇️ Downloading: https://neat-cities-clean.loca.lt/data/Parsed_Not_Capuchinbird_Clips/afternoon-birds-song-in-forest-15.wav\n",
            "⬇️ Downloading: https://neat-cities-clean.loca.lt/data/Parsed_Not_Capuchinbird_Clips/afternoon-birds-song-in-forest-16.wav\n",
            "⬇️ Downloading: https://neat-cities-clean.loca.lt/data/Parsed_Not_Capuchinbird_Clips/afternoon-birds-song-in-forest-17.wav\n",
            "⬇️ Downloading: https://neat-cities-clean.loca.lt/data/Parsed_Not_Capuchinbird_Clips/afternoon-birds-song-in-forest-18.wav\n",
            "⬇️ Downloading: https://neat-cities-clean.loca.lt/data/Parsed_Not_Capuchinbird_Clips/afternoon-birds-song-in-forest-19.wav\n",
            "⬇️ Downloading: https://neat-cities-clean.loca.lt/data/Parsed_Not_Capuchinbird_Clips/afternoon-birds-song-in-forest-2.wav\n",
            "⬇️ Downloading: https://neat-cities-clean.loca.lt/data/Parsed_Not_Capuchinbird_Clips/afternoon-birds-song-in-forest-20.wav\n",
            "⬇️ Downloading: https://neat-cities-clean.loca.lt/data/Parsed_Not_Capuchinbird_Clips/afternoon-birds-song-in-forest-21.wav\n",
            "⬇️ Downloading: https://neat-cities-clean.loca.lt/data/Parsed_Not_Capuchinbird_Clips/afternoon-birds-song-in-forest-22.wav\n",
            "⬇️ Downloading: https://neat-cities-clean.loca.lt/data/Parsed_Not_Capuchinbird_Clips/afternoon-birds-song-in-forest-23.wav\n",
            "⬇️ Downloading: https://neat-cities-clean.loca.lt/data/Parsed_Not_Capuchinbird_Clips/afternoon-birds-song-in-forest-24.wav\n",
            "⬇️ Downloading: https://neat-cities-clean.loca.lt/data/Parsed_Not_Capuchinbird_Clips/afternoon-birds-song-in-forest-25.wav\n",
            "⬇️ Downloading: https://neat-cities-clean.loca.lt/data/Parsed_Not_Capuchinbird_Clips/afternoon-birds-song-in-forest-26.wav\n",
            "⬇️ Downloading: https://neat-cities-clean.loca.lt/data/Parsed_Not_Capuchinbird_Clips/afternoon-birds-song-in-forest-27.wav\n",
            "⬇️ Downloading: https://neat-cities-clean.loca.lt/data/Parsed_Not_Capuchinbird_Clips/afternoon-birds-song-in-forest-28.wav\n",
            "⬇️ Downloading: https://neat-cities-clean.loca.lt/data/Parsed_Not_Capuchinbird_Clips/afternoon-birds-song-in-forest-29.wav\n",
            "⬇️ Downloading: https://neat-cities-clean.loca.lt/data/Parsed_Not_Capuchinbird_Clips/afternoon-birds-song-in-forest-3.wav\n",
            "⬇️ Downloading: https://neat-cities-clean.loca.lt/data/Parsed_Not_Capuchinbird_Clips/afternoon-birds-song-in-forest-30.wav\n",
            "⬇️ Downloading: https://neat-cities-clean.loca.lt/data/Parsed_Not_Capuchinbird_Clips/afternoon-birds-song-in-forest-31.wav\n",
            "⬇️ Downloading: https://neat-cities-clean.loca.lt/data/Parsed_Not_Capuchinbird_Clips/afternoon-birds-song-in-forest-32.wav\n",
            "⬇️ Downloading: https://neat-cities-clean.loca.lt/data/Parsed_Not_Capuchinbird_Clips/afternoon-birds-song-in-forest-33.wav\n",
            "⬇️ Downloading: https://neat-cities-clean.loca.lt/data/Parsed_Not_Capuchinbird_Clips/afternoon-birds-song-in-forest-34.wav\n",
            "⬇️ Downloading: https://neat-cities-clean.loca.lt/data/Parsed_Not_Capuchinbird_Clips/afternoon-birds-song-in-forest-4.wav\n",
            "⬇️ Downloading: https://neat-cities-clean.loca.lt/data/Parsed_Not_Capuchinbird_Clips/afternoon-birds-song-in-forest-5.wav\n",
            "⬇️ Downloading: https://neat-cities-clean.loca.lt/data/Parsed_Not_Capuchinbird_Clips/afternoon-birds-song-in-forest-6.wav\n",
            "⬇️ Downloading: https://neat-cities-clean.loca.lt/data/Parsed_Not_Capuchinbird_Clips/afternoon-birds-song-in-forest-7.wav\n",
            "⬇️ Downloading: https://neat-cities-clean.loca.lt/data/Parsed_Not_Capuchinbird_Clips/afternoon-birds-song-in-forest-8.wav\n",
            "⬇️ Downloading: https://neat-cities-clean.loca.lt/data/Parsed_Not_Capuchinbird_Clips/afternoon-birds-song-in-forest-9.wav\n",
            "⬇️ Downloading: https://neat-cities-clean.loca.lt/data/Parsed_Not_Capuchinbird_Clips/birds-singing-in-forest-sounds-0.wav\n",
            "⬇️ Downloading: https://neat-cities-clean.loca.lt/data/Parsed_Not_Capuchinbird_Clips/birds-singing-in-forest-sounds-1.wav\n",
            "⬇️ Downloading: https://neat-cities-clean.loca.lt/data/Parsed_Not_Capuchinbird_Clips/birds-singing-in-forest-sounds-10.wav\n",
            "⬇️ Downloading: https://neat-cities-clean.loca.lt/data/Parsed_Not_Capuchinbird_Clips/birds-singing-in-forest-sounds-11.wav\n",
            "⬇️ Downloading: https://neat-cities-clean.loca.lt/data/Parsed_Not_Capuchinbird_Clips/birds-singing-in-forest-sounds-12.wav\n",
            "⬇️ Downloading: https://neat-cities-clean.loca.lt/data/Parsed_Not_Capuchinbird_Clips/birds-singing-in-forest-sounds-13.wav\n",
            "⬇️ Downloading: https://neat-cities-clean.loca.lt/data/Parsed_Not_Capuchinbird_Clips/birds-singing-in-forest-sounds-14.wav\n",
            "⬇️ Downloading: https://neat-cities-clean.loca.lt/data/Parsed_Not_Capuchinbird_Clips/birds-singing-in-forest-sounds-15.wav\n",
            "⬇️ Downloading: https://neat-cities-clean.loca.lt/data/Parsed_Not_Capuchinbird_Clips/birds-singing-in-forest-sounds-16.wav\n",
            "⬇️ Downloading: https://neat-cities-clean.loca.lt/data/Parsed_Not_Capuchinbird_Clips/birds-singing-in-forest-sounds-17.wav\n",
            "⬇️ Downloading: https://neat-cities-clean.loca.lt/data/Parsed_Not_Capuchinbird_Clips/birds-singing-in-forest-sounds-18.wav\n",
            "⬇️ Downloading: https://neat-cities-clean.loca.lt/data/Parsed_Not_Capuchinbird_Clips/birds-singing-in-forest-sounds-19.wav\n",
            "⬇️ Downloading: https://neat-cities-clean.loca.lt/data/Parsed_Not_Capuchinbird_Clips/birds-singing-in-forest-sounds-2.wav\n",
            "⬇️ Downloading: https://neat-cities-clean.loca.lt/data/Parsed_Not_Capuchinbird_Clips/birds-singing-in-forest-sounds-20.wav\n",
            "⬇️ Downloading: https://neat-cities-clean.loca.lt/data/Parsed_Not_Capuchinbird_Clips/birds-singing-in-forest-sounds-21.wav\n",
            "⬇️ Downloading: https://neat-cities-clean.loca.lt/data/Parsed_Not_Capuchinbird_Clips/birds-singing-in-forest-sounds-22.wav\n",
            "⬇️ Downloading: https://neat-cities-clean.loca.lt/data/Parsed_Not_Capuchinbird_Clips/birds-singing-in-forest-sounds-23.wav\n",
            "⬇️ Downloading: https://neat-cities-clean.loca.lt/data/Parsed_Not_Capuchinbird_Clips/birds-singing-in-forest-sounds-24.wav\n",
            "⬇️ Downloading: https://neat-cities-clean.loca.lt/data/Parsed_Not_Capuchinbird_Clips/birds-singing-in-forest-sounds-25.wav\n",
            "⬇️ Downloading: https://neat-cities-clean.loca.lt/data/Parsed_Not_Capuchinbird_Clips/birds-singing-in-forest-sounds-26.wav\n",
            "⬇️ Downloading: https://neat-cities-clean.loca.lt/data/Parsed_Not_Capuchinbird_Clips/birds-singing-in-forest-sounds-27.wav\n",
            "⬇️ Downloading: https://neat-cities-clean.loca.lt/data/Parsed_Not_Capuchinbird_Clips/birds-singing-in-forest-sounds-28.wav\n",
            "⬇️ Downloading: https://neat-cities-clean.loca.lt/data/Parsed_Not_Capuchinbird_Clips/birds-singing-in-forest-sounds-29.wav\n",
            "⬇️ Downloading: https://neat-cities-clean.loca.lt/data/Parsed_Not_Capuchinbird_Clips/birds-singing-in-forest-sounds-3.wav\n",
            "⬇️ Downloading: https://neat-cities-clean.loca.lt/data/Parsed_Not_Capuchinbird_Clips/birds-singing-in-forest-sounds-30.wav\n",
            "⬇️ Downloading: https://neat-cities-clean.loca.lt/data/Parsed_Not_Capuchinbird_Clips/birds-singing-in-forest-sounds-31.wav\n",
            "⬇️ Downloading: https://neat-cities-clean.loca.lt/data/Parsed_Not_Capuchinbird_Clips/birds-singing-in-forest-sounds-32.wav\n",
            "⬇️ Downloading: https://neat-cities-clean.loca.lt/data/Parsed_Not_Capuchinbird_Clips/birds-singing-in-forest-sounds-33.wav\n",
            "⬇️ Downloading: https://neat-cities-clean.loca.lt/data/Parsed_Not_Capuchinbird_Clips/birds-singing-in-forest-sounds-34.wav\n",
            "⬇️ Downloading: https://neat-cities-clean.loca.lt/data/Parsed_Not_Capuchinbird_Clips/birds-singing-in-forest-sounds-35.wav\n",
            "⬇️ Downloading: https://neat-cities-clean.loca.lt/data/Parsed_Not_Capuchinbird_Clips/birds-singing-in-forest-sounds-36.wav\n",
            "⬇️ Downloading: https://neat-cities-clean.loca.lt/data/Parsed_Not_Capuchinbird_Clips/birds-singing-in-forest-sounds-37.wav\n",
            "⬇️ Downloading: https://neat-cities-clean.loca.lt/data/Parsed_Not_Capuchinbird_Clips/birds-singing-in-forest-sounds-38.wav\n",
            "⬇️ Downloading: https://neat-cities-clean.loca.lt/data/Parsed_Not_Capuchinbird_Clips/birds-singing-in-forest-sounds-39.wav\n",
            "⬇️ Downloading: https://neat-cities-clean.loca.lt/data/Parsed_Not_Capuchinbird_Clips/birds-singing-in-forest-sounds-4.wav\n",
            "⬇️ Downloading: https://neat-cities-clean.loca.lt/data/Parsed_Not_Capuchinbird_Clips/birds-singing-in-forest-sounds-40.wav\n",
            "⬇️ Downloading: https://neat-cities-clean.loca.lt/data/Parsed_Not_Capuchinbird_Clips/birds-singing-in-forest-sounds-41.wav\n",
            "⬇️ Downloading: https://neat-cities-clean.loca.lt/data/Parsed_Not_Capuchinbird_Clips/birds-singing-in-forest-sounds-42.wav\n",
            "⬇️ Downloading: https://neat-cities-clean.loca.lt/data/Parsed_Not_Capuchinbird_Clips/birds-singing-in-forest-sounds-43.wav\n",
            "⬇️ Downloading: https://neat-cities-clean.loca.lt/data/Parsed_Not_Capuchinbird_Clips/birds-singing-in-forest-sounds-44.wav\n",
            "⬇️ Downloading: https://neat-cities-clean.loca.lt/data/Parsed_Not_Capuchinbird_Clips/birds-singing-in-forest-sounds-45.wav\n",
            "⬇️ Downloading: https://neat-cities-clean.loca.lt/data/Parsed_Not_Capuchinbird_Clips/birds-singing-in-forest-sounds-46.wav\n",
            "⬇️ Downloading: https://neat-cities-clean.loca.lt/data/Parsed_Not_Capuchinbird_Clips/birds-singing-in-forest-sounds-47.wav\n",
            "⬇️ Downloading: https://neat-cities-clean.loca.lt/data/Parsed_Not_Capuchinbird_Clips/birds-singing-in-forest-sounds-48.wav\n",
            "⬇️ Downloading: https://neat-cities-clean.loca.lt/data/Parsed_Not_Capuchinbird_Clips/birds-singing-in-forest-sounds-49.wav\n",
            "⬇️ Downloading: https://neat-cities-clean.loca.lt/data/Parsed_Not_Capuchinbird_Clips/birds-singing-in-forest-sounds-5.wav\n",
            "⬇️ Downloading: https://neat-cities-clean.loca.lt/data/Parsed_Not_Capuchinbird_Clips/birds-singing-in-forest-sounds-50.wav\n",
            "⬇️ Downloading: https://neat-cities-clean.loca.lt/data/Parsed_Not_Capuchinbird_Clips/birds-singing-in-forest-sounds-51.wav\n",
            "⬇️ Downloading: https://neat-cities-clean.loca.lt/data/Parsed_Not_Capuchinbird_Clips/birds-singing-in-forest-sounds-52.wav\n",
            "⬇️ Downloading: https://neat-cities-clean.loca.lt/data/Parsed_Not_Capuchinbird_Clips/birds-singing-in-forest-sounds-53.wav\n",
            "⬇️ Downloading: https://neat-cities-clean.loca.lt/data/Parsed_Not_Capuchinbird_Clips/birds-singing-in-forest-sounds-54.wav\n",
            "⬇️ Downloading: https://neat-cities-clean.loca.lt/data/Parsed_Not_Capuchinbird_Clips/birds-singing-in-forest-sounds-55.wav\n",
            "⬇️ Downloading: https://neat-cities-clean.loca.lt/data/Parsed_Not_Capuchinbird_Clips/birds-singing-in-forest-sounds-56.wav\n",
            "⬇️ Downloading: https://neat-cities-clean.loca.lt/data/Parsed_Not_Capuchinbird_Clips/birds-singing-in-forest-sounds-6.wav\n",
            "⬇️ Downloading: https://neat-cities-clean.loca.lt/data/Parsed_Not_Capuchinbird_Clips/birds-singing-in-forest-sounds-7.wav\n",
            "⬇️ Downloading: https://neat-cities-clean.loca.lt/data/Parsed_Not_Capuchinbird_Clips/birds-singing-in-forest-sounds-8.wav\n",
            "⬇️ Downloading: https://neat-cities-clean.loca.lt/data/Parsed_Not_Capuchinbird_Clips/birds-singing-in-forest-sounds-9.wav\n",
            "⬇️ Downloading: https://neat-cities-clean.loca.lt/data/Parsed_Not_Capuchinbird_Clips/bobwhite-quail-sound-0.wav\n",
            "⬇️ Downloading: https://neat-cities-clean.loca.lt/data/Parsed_Not_Capuchinbird_Clips/bobwhite-quail-sound-1.wav\n",
            "⬇️ Downloading: https://neat-cities-clean.loca.lt/data/Parsed_Not_Capuchinbird_Clips/bobwhite-quail-sound-10.wav\n",
            "⬇️ Downloading: https://neat-cities-clean.loca.lt/data/Parsed_Not_Capuchinbird_Clips/bobwhite-quail-sound-11.wav\n",
            "⬇️ Downloading: https://neat-cities-clean.loca.lt/data/Parsed_Not_Capuchinbird_Clips/bobwhite-quail-sound-12.wav\n",
            "⬇️ Downloading: https://neat-cities-clean.loca.lt/data/Parsed_Not_Capuchinbird_Clips/bobwhite-quail-sound-13.wav\n",
            "⬇️ Downloading: https://neat-cities-clean.loca.lt/data/Parsed_Not_Capuchinbird_Clips/bobwhite-quail-sound-14.wav\n",
            "⬇️ Downloading: https://neat-cities-clean.loca.lt/data/Parsed_Not_Capuchinbird_Clips/bobwhite-quail-sound-15.wav\n",
            "⬇️ Downloading: https://neat-cities-clean.loca.lt/data/Parsed_Not_Capuchinbird_Clips/bobwhite-quail-sound-16.wav\n",
            "⬇️ Downloading: https://neat-cities-clean.loca.lt/data/Parsed_Not_Capuchinbird_Clips/bobwhite-quail-sound-17.wav\n",
            "⬇️ Downloading: https://neat-cities-clean.loca.lt/data/Parsed_Not_Capuchinbird_Clips/bobwhite-quail-sound-18.wav\n",
            "⬇️ Downloading: https://neat-cities-clean.loca.lt/data/Parsed_Not_Capuchinbird_Clips/bobwhite-quail-sound-19.wav\n",
            "⬇️ Downloading: https://neat-cities-clean.loca.lt/data/Parsed_Not_Capuchinbird_Clips/bobwhite-quail-sound-2.wav\n",
            "⬇️ Downloading: https://neat-cities-clean.loca.lt/data/Parsed_Not_Capuchinbird_Clips/bobwhite-quail-sound-20.wav\n",
            "⬇️ Downloading: https://neat-cities-clean.loca.lt/data/Parsed_Not_Capuchinbird_Clips/bobwhite-quail-sound-3.wav\n",
            "⬇️ Downloading: https://neat-cities-clean.loca.lt/data/Parsed_Not_Capuchinbird_Clips/bobwhite-quail-sound-4.wav\n",
            "⬇️ Downloading: https://neat-cities-clean.loca.lt/data/Parsed_Not_Capuchinbird_Clips/bobwhite-quail-sound-5.wav\n",
            "⬇️ Downloading: https://neat-cities-clean.loca.lt/data/Parsed_Not_Capuchinbird_Clips/bobwhite-quail-sound-6.wav\n",
            "⬇️ Downloading: https://neat-cities-clean.loca.lt/data/Parsed_Not_Capuchinbird_Clips/bobwhite-quail-sound-7.wav\n",
            "⬇️ Downloading: https://neat-cities-clean.loca.lt/data/Parsed_Not_Capuchinbird_Clips/bobwhite-quail-sound-8.wav\n",
            "⬇️ Downloading: https://neat-cities-clean.loca.lt/data/Parsed_Not_Capuchinbird_Clips/bobwhite-quail-sound-9.wav\n",
            "⬇️ Downloading: https://neat-cities-clean.loca.lt/data/Parsed_Not_Capuchinbird_Clips/cardinal-bird-call-0.wav\n",
            "⬇️ Downloading: https://neat-cities-clean.loca.lt/data/Parsed_Not_Capuchinbird_Clips/cardinal-bird-call-1.wav\n",
            "⬇️ Downloading: https://neat-cities-clean.loca.lt/data/Parsed_Not_Capuchinbird_Clips/cardinal-bird-call-2.wav\n",
            "⬇️ Downloading: https://neat-cities-clean.loca.lt/data/Parsed_Not_Capuchinbird_Clips/cardinal-bird-call-3.wav\n",
            "⬇️ Downloading: https://neat-cities-clean.loca.lt/data/Parsed_Not_Capuchinbird_Clips/cicadas-noise-sound-effect-0.wav\n",
            "⬇️ Downloading: https://neat-cities-clean.loca.lt/data/Parsed_Not_Capuchinbird_Clips/cicadas-noise-sound-effect-1.wav\n",
            "⬇️ Downloading: https://neat-cities-clean.loca.lt/data/Parsed_Not_Capuchinbird_Clips/cicadas-noise-sound-effect-2.wav\n",
            "⬇️ Downloading: https://neat-cities-clean.loca.lt/data/Parsed_Not_Capuchinbird_Clips/cicadas-noise-sound-effect-3.wav\n",
            "⬇️ Downloading: https://neat-cities-clean.loca.lt/data/Parsed_Not_Capuchinbird_Clips/corncrake-sound-0.wav\n",
            "⬇️ Downloading: https://neat-cities-clean.loca.lt/data/Parsed_Not_Capuchinbird_Clips/corncrake-sound-1.wav\n",
            "⬇️ Downloading: https://neat-cities-clean.loca.lt/data/Parsed_Not_Capuchinbird_Clips/corncrake-sound-2.wav\n",
            "⬇️ Downloading: https://neat-cities-clean.loca.lt/data/Parsed_Not_Capuchinbird_Clips/cricket-sounds-for-sleep-0.wav\n",
            "⬇️ Downloading: https://neat-cities-clean.loca.lt/data/Parsed_Not_Capuchinbird_Clips/cricket-sounds-for-sleep-1.wav\n",
            "⬇️ Downloading: https://neat-cities-clean.loca.lt/data/Parsed_Not_Capuchinbird_Clips/cricket-sounds-for-sleep-10.wav\n",
            "⬇️ Downloading: https://neat-cities-clean.loca.lt/data/Parsed_Not_Capuchinbird_Clips/cricket-sounds-for-sleep-11.wav\n",
            "⬇️ Downloading: https://neat-cities-clean.loca.lt/data/Parsed_Not_Capuchinbird_Clips/cricket-sounds-for-sleep-12.wav\n",
            "⬇️ Downloading: https://neat-cities-clean.loca.lt/data/Parsed_Not_Capuchinbird_Clips/cricket-sounds-for-sleep-13.wav\n",
            "⬇️ Downloading: https://neat-cities-clean.loca.lt/data/Parsed_Not_Capuchinbird_Clips/cricket-sounds-for-sleep-14.wav\n",
            "⬇️ Downloading: https://neat-cities-clean.loca.lt/data/Parsed_Not_Capuchinbird_Clips/cricket-sounds-for-sleep-15.wav\n",
            "⬇️ Downloading: https://neat-cities-clean.loca.lt/data/Parsed_Not_Capuchinbird_Clips/cricket-sounds-for-sleep-16.wav\n",
            "⬇️ Downloading: https://neat-cities-clean.loca.lt/data/Parsed_Not_Capuchinbird_Clips/cricket-sounds-for-sleep-17.wav\n",
            "⬇️ Downloading: https://neat-cities-clean.loca.lt/data/Parsed_Not_Capuchinbird_Clips/cricket-sounds-for-sleep-18.wav\n",
            "⬇️ Downloading: https://neat-cities-clean.loca.lt/data/Parsed_Not_Capuchinbird_Clips/cricket-sounds-for-sleep-19.wav\n",
            "⬇️ Downloading: https://neat-cities-clean.loca.lt/data/Parsed_Not_Capuchinbird_Clips/cricket-sounds-for-sleep-2.wav\n",
            "⬇️ Downloading: https://neat-cities-clean.loca.lt/data/Parsed_Not_Capuchinbird_Clips/cricket-sounds-for-sleep-20.wav\n",
            "⬇️ Downloading: https://neat-cities-clean.loca.lt/data/Parsed_Not_Capuchinbird_Clips/cricket-sounds-for-sleep-21.wav\n",
            "⬇️ Downloading: https://neat-cities-clean.loca.lt/data/Parsed_Not_Capuchinbird_Clips/cricket-sounds-for-sleep-22.wav\n",
            "⬇️ Downloading: https://neat-cities-clean.loca.lt/data/Parsed_Not_Capuchinbird_Clips/cricket-sounds-for-sleep-23.wav\n",
            "⬇️ Downloading: https://neat-cities-clean.loca.lt/data/Parsed_Not_Capuchinbird_Clips/cricket-sounds-for-sleep-24.wav\n",
            "⬇️ Downloading: https://neat-cities-clean.loca.lt/data/Parsed_Not_Capuchinbird_Clips/cricket-sounds-for-sleep-25.wav\n",
            "⬇️ Downloading: https://neat-cities-clean.loca.lt/data/Parsed_Not_Capuchinbird_Clips/cricket-sounds-for-sleep-26.wav\n",
            "⬇️ Downloading: https://neat-cities-clean.loca.lt/data/Parsed_Not_Capuchinbird_Clips/cricket-sounds-for-sleep-27.wav\n",
            "⬇️ Downloading: https://neat-cities-clean.loca.lt/data/Parsed_Not_Capuchinbird_Clips/cricket-sounds-for-sleep-28.wav\n",
            "⬇️ Downloading: https://neat-cities-clean.loca.lt/data/Parsed_Not_Capuchinbird_Clips/cricket-sounds-for-sleep-29.wav\n",
            "⬇️ Downloading: https://neat-cities-clean.loca.lt/data/Parsed_Not_Capuchinbird_Clips/cricket-sounds-for-sleep-3.wav\n",
            "⬇️ Downloading: https://neat-cities-clean.loca.lt/data/Parsed_Not_Capuchinbird_Clips/cricket-sounds-for-sleep-30.wav\n",
            "⬇️ Downloading: https://neat-cities-clean.loca.lt/data/Parsed_Not_Capuchinbird_Clips/cricket-sounds-for-sleep-31.wav\n",
            "⬇️ Downloading: https://neat-cities-clean.loca.lt/data/Parsed_Not_Capuchinbird_Clips/cricket-sounds-for-sleep-32.wav\n",
            "⬇️ Downloading: https://neat-cities-clean.loca.lt/data/Parsed_Not_Capuchinbird_Clips/cricket-sounds-for-sleep-33.wav\n",
            "⬇️ Downloading: https://neat-cities-clean.loca.lt/data/Parsed_Not_Capuchinbird_Clips/cricket-sounds-for-sleep-34.wav\n",
            "⬇️ Downloading: https://neat-cities-clean.loca.lt/data/Parsed_Not_Capuchinbird_Clips/cricket-sounds-for-sleep-35.wav\n",
            "⬇️ Downloading: https://neat-cities-clean.loca.lt/data/Parsed_Not_Capuchinbird_Clips/cricket-sounds-for-sleep-36.wav\n",
            "⬇️ Downloading: https://neat-cities-clean.loca.lt/data/Parsed_Not_Capuchinbird_Clips/cricket-sounds-for-sleep-37.wav\n",
            "⬇️ Downloading: https://neat-cities-clean.loca.lt/data/Parsed_Not_Capuchinbird_Clips/cricket-sounds-for-sleep-38.wav\n",
            "⬇️ Downloading: https://neat-cities-clean.loca.lt/data/Parsed_Not_Capuchinbird_Clips/cricket-sounds-for-sleep-39.wav\n",
            "⬇️ Downloading: https://neat-cities-clean.loca.lt/data/Parsed_Not_Capuchinbird_Clips/cricket-sounds-for-sleep-4.wav\n",
            "⬇️ Downloading: https://neat-cities-clean.loca.lt/data/Parsed_Not_Capuchinbird_Clips/cricket-sounds-for-sleep-40.wav\n",
            "⬇️ Downloading: https://neat-cities-clean.loca.lt/data/Parsed_Not_Capuchinbird_Clips/cricket-sounds-for-sleep-41.wav\n",
            "⬇️ Downloading: https://neat-cities-clean.loca.lt/data/Parsed_Not_Capuchinbird_Clips/cricket-sounds-for-sleep-42.wav\n",
            "⬇️ Downloading: https://neat-cities-clean.loca.lt/data/Parsed_Not_Capuchinbird_Clips/cricket-sounds-for-sleep-43.wav\n",
            "⬇️ Downloading: https://neat-cities-clean.loca.lt/data/Parsed_Not_Capuchinbird_Clips/cricket-sounds-for-sleep-44.wav\n",
            "⬇️ Downloading: https://neat-cities-clean.loca.lt/data/Parsed_Not_Capuchinbird_Clips/cricket-sounds-for-sleep-45.wav\n",
            "⬇️ Downloading: https://neat-cities-clean.loca.lt/data/Parsed_Not_Capuchinbird_Clips/cricket-sounds-for-sleep-46.wav\n",
            "⬇️ Downloading: https://neat-cities-clean.loca.lt/data/Parsed_Not_Capuchinbird_Clips/cricket-sounds-for-sleep-47.wav\n",
            "⬇️ Downloading: https://neat-cities-clean.loca.lt/data/Parsed_Not_Capuchinbird_Clips/cricket-sounds-for-sleep-48.wav\n",
            "⬇️ Downloading: https://neat-cities-clean.loca.lt/data/Parsed_Not_Capuchinbird_Clips/cricket-sounds-for-sleep-49.wav\n",
            "⬇️ Downloading: https://neat-cities-clean.loca.lt/data/Parsed_Not_Capuchinbird_Clips/cricket-sounds-for-sleep-5.wav\n",
            "⬇️ Downloading: https://neat-cities-clean.loca.lt/data/Parsed_Not_Capuchinbird_Clips/cricket-sounds-for-sleep-50.wav\n",
            "⬇️ Downloading: https://neat-cities-clean.loca.lt/data/Parsed_Not_Capuchinbird_Clips/cricket-sounds-for-sleep-51.wav\n",
            "⬇️ Downloading: https://neat-cities-clean.loca.lt/data/Parsed_Not_Capuchinbird_Clips/cricket-sounds-for-sleep-52.wav\n",
            "⬇️ Downloading: https://neat-cities-clean.loca.lt/data/Parsed_Not_Capuchinbird_Clips/cricket-sounds-for-sleep-53.wav\n",
            "⬇️ Downloading: https://neat-cities-clean.loca.lt/data/Parsed_Not_Capuchinbird_Clips/cricket-sounds-for-sleep-54.wav\n",
            "⬇️ Downloading: https://neat-cities-clean.loca.lt/data/Parsed_Not_Capuchinbird_Clips/cricket-sounds-for-sleep-55.wav\n",
            "⬇️ Downloading: https://neat-cities-clean.loca.lt/data/Parsed_Not_Capuchinbird_Clips/cricket-sounds-for-sleep-56.wav\n",
            "⬇️ Downloading: https://neat-cities-clean.loca.lt/data/Parsed_Not_Capuchinbird_Clips/cricket-sounds-for-sleep-57.wav\n",
            "⬇️ Downloading: https://neat-cities-clean.loca.lt/data/Parsed_Not_Capuchinbird_Clips/cricket-sounds-for-sleep-58.wav\n",
            "⬇️ Downloading: https://neat-cities-clean.loca.lt/data/Parsed_Not_Capuchinbird_Clips/cricket-sounds-for-sleep-59.wav\n",
            "⬇️ Downloading: https://neat-cities-clean.loca.lt/data/Parsed_Not_Capuchinbird_Clips/cricket-sounds-for-sleep-6.wav\n",
            "⬇️ Downloading: https://neat-cities-clean.loca.lt/data/Parsed_Not_Capuchinbird_Clips/cricket-sounds-for-sleep-7.wav\n",
            "⬇️ Downloading: https://neat-cities-clean.loca.lt/data/Parsed_Not_Capuchinbird_Clips/cricket-sounds-for-sleep-8.wav\n",
            "⬇️ Downloading: https://neat-cities-clean.loca.lt/data/Parsed_Not_Capuchinbird_Clips/cricket-sounds-for-sleep-9.wav\n",
            "⬇️ Downloading: https://neat-cities-clean.loca.lt/data/Parsed_Not_Capuchinbird_Clips/Crickets-chirping-0.wav\n",
            "⬇️ Downloading: https://neat-cities-clean.loca.lt/data/Parsed_Not_Capuchinbird_Clips/Crickets-chirping-1.wav\n",
            "⬇️ Downloading: https://neat-cities-clean.loca.lt/data/Parsed_Not_Capuchinbird_Clips/Crickets-chirping-10.wav\n",
            "⬇️ Downloading: https://neat-cities-clean.loca.lt/data/Parsed_Not_Capuchinbird_Clips/Crickets-chirping-2.wav\n",
            "⬇️ Downloading: https://neat-cities-clean.loca.lt/data/Parsed_Not_Capuchinbird_Clips/Crickets-chirping-3.wav\n",
            "⬇️ Downloading: https://neat-cities-clean.loca.lt/data/Parsed_Not_Capuchinbird_Clips/Crickets-chirping-4.wav\n",
            "⬇️ Downloading: https://neat-cities-clean.loca.lt/data/Parsed_Not_Capuchinbird_Clips/Crickets-chirping-5.wav\n",
            "⬇️ Downloading: https://neat-cities-clean.loca.lt/data/Parsed_Not_Capuchinbird_Clips/Crickets-chirping-6.wav\n",
            "⬇️ Downloading: https://neat-cities-clean.loca.lt/data/Parsed_Not_Capuchinbird_Clips/Crickets-chirping-7.wav\n",
            "⬇️ Downloading: https://neat-cities-clean.loca.lt/data/Parsed_Not_Capuchinbird_Clips/Crickets-chirping-8.wav\n",
            "⬇️ Downloading: https://neat-cities-clean.loca.lt/data/Parsed_Not_Capuchinbird_Clips/Crickets-chirping-9.wav\n",
            "⬇️ Downloading: https://neat-cities-clean.loca.lt/data/Parsed_Not_Capuchinbird_Clips/Crickets-chirping-at-night-0.wav\n",
            "⬇️ Downloading: https://neat-cities-clean.loca.lt/data/Parsed_Not_Capuchinbird_Clips/Crickets-chirping-at-night-1.wav\n",
            "⬇️ Downloading: https://neat-cities-clean.loca.lt/data/Parsed_Not_Capuchinbird_Clips/Crickets-chirping-at-night-10.wav\n",
            "⬇️ Downloading: https://neat-cities-clean.loca.lt/data/Parsed_Not_Capuchinbird_Clips/Crickets-chirping-at-night-11.wav\n",
            "⬇️ Downloading: https://neat-cities-clean.loca.lt/data/Parsed_Not_Capuchinbird_Clips/Crickets-chirping-at-night-12.wav\n",
            "⬇️ Downloading: https://neat-cities-clean.loca.lt/data/Parsed_Not_Capuchinbird_Clips/Crickets-chirping-at-night-13.wav\n",
            "⬇️ Downloading: https://neat-cities-clean.loca.lt/data/Parsed_Not_Capuchinbird_Clips/Crickets-chirping-at-night-2.wav\n",
            "⬇️ Downloading: https://neat-cities-clean.loca.lt/data/Parsed_Not_Capuchinbird_Clips/Crickets-chirping-at-night-3.wav\n",
            "⬇️ Downloading: https://neat-cities-clean.loca.lt/data/Parsed_Not_Capuchinbird_Clips/Crickets-chirping-at-night-4.wav\n",
            "⬇️ Downloading: https://neat-cities-clean.loca.lt/data/Parsed_Not_Capuchinbird_Clips/Crickets-chirping-at-night-5.wav\n",
            "⬇️ Downloading: https://neat-cities-clean.loca.lt/data/Parsed_Not_Capuchinbird_Clips/Crickets-chirping-at-night-6.wav\n",
            "⬇️ Downloading: https://neat-cities-clean.loca.lt/data/Parsed_Not_Capuchinbird_Clips/Crickets-chirping-at-night-7.wav\n",
            "⬇️ Downloading: https://neat-cities-clean.loca.lt/data/Parsed_Not_Capuchinbird_Clips/Crickets-chirping-at-night-8.wav\n",
            "⬇️ Downloading: https://neat-cities-clean.loca.lt/data/Parsed_Not_Capuchinbird_Clips/Crickets-chirping-at-night-9.wav\n",
            "⬇️ Downloading: https://neat-cities-clean.loca.lt/data/Parsed_Not_Capuchinbird_Clips/crickets-chirping-crickets-sound-0.wav\n",
            "⬇️ Downloading: https://neat-cities-clean.loca.lt/data/Parsed_Not_Capuchinbird_Clips/crickets-chirping-crickets-sound-1.wav\n",
            "⬇️ Downloading: https://neat-cities-clean.loca.lt/data/Parsed_Not_Capuchinbird_Clips/crickets-chirping-crickets-sound-10.wav\n",
            "⬇️ Downloading: https://neat-cities-clean.loca.lt/data/Parsed_Not_Capuchinbird_Clips/crickets-chirping-crickets-sound-11.wav\n",
            "⬇️ Downloading: https://neat-cities-clean.loca.lt/data/Parsed_Not_Capuchinbird_Clips/crickets-chirping-crickets-sound-12.wav\n",
            "⬇️ Downloading: https://neat-cities-clean.loca.lt/data/Parsed_Not_Capuchinbird_Clips/crickets-chirping-crickets-sound-13.wav\n",
            "⬇️ Downloading: https://neat-cities-clean.loca.lt/data/Parsed_Not_Capuchinbird_Clips/crickets-chirping-crickets-sound-14.wav\n",
            "⬇️ Downloading: https://neat-cities-clean.loca.lt/data/Parsed_Not_Capuchinbird_Clips/crickets-chirping-crickets-sound-15.wav\n",
            "⬇️ Downloading: https://neat-cities-clean.loca.lt/data/Parsed_Not_Capuchinbird_Clips/crickets-chirping-crickets-sound-16.wav\n",
            "⬇️ Downloading: https://neat-cities-clean.loca.lt/data/Parsed_Not_Capuchinbird_Clips/crickets-chirping-crickets-sound-17.wav\n",
            "⬇️ Downloading: https://neat-cities-clean.loca.lt/data/Parsed_Not_Capuchinbird_Clips/crickets-chirping-crickets-sound-18.wav\n",
            "⬇️ Downloading: https://neat-cities-clean.loca.lt/data/Parsed_Not_Capuchinbird_Clips/crickets-chirping-crickets-sound-19.wav\n",
            "⬇️ Downloading: https://neat-cities-clean.loca.lt/data/Parsed_Not_Capuchinbird_Clips/crickets-chirping-crickets-sound-2.wav\n",
            "⬇️ Downloading: https://neat-cities-clean.loca.lt/data/Parsed_Not_Capuchinbird_Clips/crickets-chirping-crickets-sound-20.wav\n",
            "⬇️ Downloading: https://neat-cities-clean.loca.lt/data/Parsed_Not_Capuchinbird_Clips/crickets-chirping-crickets-sound-21.wav\n",
            "⬇️ Downloading: https://neat-cities-clean.loca.lt/data/Parsed_Not_Capuchinbird_Clips/crickets-chirping-crickets-sound-22.wav\n",
            "⬇️ Downloading: https://neat-cities-clean.loca.lt/data/Parsed_Not_Capuchinbird_Clips/crickets-chirping-crickets-sound-23.wav\n",
            "⬇️ Downloading: https://neat-cities-clean.loca.lt/data/Parsed_Not_Capuchinbird_Clips/crickets-chirping-crickets-sound-24.wav\n",
            "⬇️ Downloading: https://neat-cities-clean.loca.lt/data/Parsed_Not_Capuchinbird_Clips/crickets-chirping-crickets-sound-25.wav\n",
            "⬇️ Downloading: https://neat-cities-clean.loca.lt/data/Parsed_Not_Capuchinbird_Clips/crickets-chirping-crickets-sound-26.wav\n",
            "⬇️ Downloading: https://neat-cities-clean.loca.lt/data/Parsed_Not_Capuchinbird_Clips/crickets-chirping-crickets-sound-27.wav\n",
            "⬇️ Downloading: https://neat-cities-clean.loca.lt/data/Parsed_Not_Capuchinbird_Clips/crickets-chirping-crickets-sound-28.wav\n",
            "⬇️ Downloading: https://neat-cities-clean.loca.lt/data/Parsed_Not_Capuchinbird_Clips/crickets-chirping-crickets-sound-29.wav\n",
            "⬇️ Downloading: https://neat-cities-clean.loca.lt/data/Parsed_Not_Capuchinbird_Clips/crickets-chirping-crickets-sound-3.wav\n",
            "⬇️ Downloading: https://neat-cities-clean.loca.lt/data/Parsed_Not_Capuchinbird_Clips/crickets-chirping-crickets-sound-4.wav\n",
            "⬇️ Downloading: https://neat-cities-clean.loca.lt/data/Parsed_Not_Capuchinbird_Clips/crickets-chirping-crickets-sound-5.wav\n",
            "⬇️ Downloading: https://neat-cities-clean.loca.lt/data/Parsed_Not_Capuchinbird_Clips/crickets-chirping-crickets-sound-6.wav\n",
            "⬇️ Downloading: https://neat-cities-clean.loca.lt/data/Parsed_Not_Capuchinbird_Clips/crickets-chirping-crickets-sound-7.wav\n",
            "⬇️ Downloading: https://neat-cities-clean.loca.lt/data/Parsed_Not_Capuchinbird_Clips/crickets-chirping-crickets-sound-8.wav\n",
            "⬇️ Downloading: https://neat-cities-clean.loca.lt/data/Parsed_Not_Capuchinbird_Clips/crickets-chirping-crickets-sound-9.wav\n",
            "⬇️ Downloading: https://neat-cities-clean.loca.lt/data/Parsed_Not_Capuchinbird_Clips/crickets-chirping-noise-0.wav\n",
            "⬇️ Downloading: https://neat-cities-clean.loca.lt/data/Parsed_Not_Capuchinbird_Clips/crickets-chirping-noise-1.wav\n",
            "⬇️ Downloading: https://neat-cities-clean.loca.lt/data/Parsed_Not_Capuchinbird_Clips/crickets-chirping-noise-10.wav\n",
            "⬇️ Downloading: https://neat-cities-clean.loca.lt/data/Parsed_Not_Capuchinbird_Clips/crickets-chirping-noise-11.wav\n",
            "⬇️ Downloading: https://neat-cities-clean.loca.lt/data/Parsed_Not_Capuchinbird_Clips/crickets-chirping-noise-12.wav\n",
            "⬇️ Downloading: https://neat-cities-clean.loca.lt/data/Parsed_Not_Capuchinbird_Clips/crickets-chirping-noise-13.wav\n",
            "⬇️ Downloading: https://neat-cities-clean.loca.lt/data/Parsed_Not_Capuchinbird_Clips/crickets-chirping-noise-14.wav\n",
            "⬇️ Downloading: https://neat-cities-clean.loca.lt/data/Parsed_Not_Capuchinbird_Clips/crickets-chirping-noise-15.wav\n",
            "⬇️ Downloading: https://neat-cities-clean.loca.lt/data/Parsed_Not_Capuchinbird_Clips/crickets-chirping-noise-16.wav\n",
            "⬇️ Downloading: https://neat-cities-clean.loca.lt/data/Parsed_Not_Capuchinbird_Clips/crickets-chirping-noise-17.wav\n",
            "⬇️ Downloading: https://neat-cities-clean.loca.lt/data/Parsed_Not_Capuchinbird_Clips/crickets-chirping-noise-18.wav\n",
            "⬇️ Downloading: https://neat-cities-clean.loca.lt/data/Parsed_Not_Capuchinbird_Clips/crickets-chirping-noise-19.wav\n",
            "⬇️ Downloading: https://neat-cities-clean.loca.lt/data/Parsed_Not_Capuchinbird_Clips/crickets-chirping-noise-2.wav\n",
            "⬇️ Downloading: https://neat-cities-clean.loca.lt/data/Parsed_Not_Capuchinbird_Clips/crickets-chirping-noise-20.wav\n",
            "⬇️ Downloading: https://neat-cities-clean.loca.lt/data/Parsed_Not_Capuchinbird_Clips/crickets-chirping-noise-21.wav\n",
            "⬇️ Downloading: https://neat-cities-clean.loca.lt/data/Parsed_Not_Capuchinbird_Clips/crickets-chirping-noise-3.wav\n",
            "⬇️ Downloading: https://neat-cities-clean.loca.lt/data/Parsed_Not_Capuchinbird_Clips/crickets-chirping-noise-4.wav\n",
            "⬇️ Downloading: https://neat-cities-clean.loca.lt/data/Parsed_Not_Capuchinbird_Clips/crickets-chirping-noise-5.wav\n",
            "⬇️ Downloading: https://neat-cities-clean.loca.lt/data/Parsed_Not_Capuchinbird_Clips/crickets-chirping-noise-6.wav\n",
            "⬇️ Downloading: https://neat-cities-clean.loca.lt/data/Parsed_Not_Capuchinbird_Clips/crickets-chirping-noise-7.wav\n",
            "⬇️ Downloading: https://neat-cities-clean.loca.lt/data/Parsed_Not_Capuchinbird_Clips/crickets-chirping-noise-8.wav\n",
            "⬇️ Downloading: https://neat-cities-clean.loca.lt/data/Parsed_Not_Capuchinbird_Clips/crickets-chirping-noise-9.wav\n",
            "⬇️ Downloading: https://neat-cities-clean.loca.lt/data/Parsed_Not_Capuchinbird_Clips/crickets-sound-effect-0.wav\n",
            "⬇️ Downloading: https://neat-cities-clean.loca.lt/data/Parsed_Not_Capuchinbird_Clips/crickets-sound-effect-1.wav\n",
            "⬇️ Downloading: https://neat-cities-clean.loca.lt/data/Parsed_Not_Capuchinbird_Clips/crickets-sound-effect-10.wav\n",
            "⬇️ Downloading: https://neat-cities-clean.loca.lt/data/Parsed_Not_Capuchinbird_Clips/crickets-sound-effect-11.wav\n",
            "⬇️ Downloading: https://neat-cities-clean.loca.lt/data/Parsed_Not_Capuchinbird_Clips/crickets-sound-effect-12.wav\n",
            "⬇️ Downloading: https://neat-cities-clean.loca.lt/data/Parsed_Not_Capuchinbird_Clips/crickets-sound-effect-13.wav\n",
            "⬇️ Downloading: https://neat-cities-clean.loca.lt/data/Parsed_Not_Capuchinbird_Clips/crickets-sound-effect-14.wav\n",
            "⬇️ Downloading: https://neat-cities-clean.loca.lt/data/Parsed_Not_Capuchinbird_Clips/crickets-sound-effect-15.wav\n",
            "⬇️ Downloading: https://neat-cities-clean.loca.lt/data/Parsed_Not_Capuchinbird_Clips/crickets-sound-effect-16.wav\n",
            "⬇️ Downloading: https://neat-cities-clean.loca.lt/data/Parsed_Not_Capuchinbird_Clips/crickets-sound-effect-17.wav\n",
            "⬇️ Downloading: https://neat-cities-clean.loca.lt/data/Parsed_Not_Capuchinbird_Clips/crickets-sound-effect-18.wav\n",
            "⬇️ Downloading: https://neat-cities-clean.loca.lt/data/Parsed_Not_Capuchinbird_Clips/crickets-sound-effect-19.wav\n",
            "⬇️ Downloading: https://neat-cities-clean.loca.lt/data/Parsed_Not_Capuchinbird_Clips/crickets-sound-effect-2.wav\n",
            "⬇️ Downloading: https://neat-cities-clean.loca.lt/data/Parsed_Not_Capuchinbird_Clips/crickets-sound-effect-20.wav\n",
            "⬇️ Downloading: https://neat-cities-clean.loca.lt/data/Parsed_Not_Capuchinbird_Clips/crickets-sound-effect-21.wav\n",
            "⬇️ Downloading: https://neat-cities-clean.loca.lt/data/Parsed_Not_Capuchinbird_Clips/crickets-sound-effect-22.wav\n",
            "⬇️ Downloading: https://neat-cities-clean.loca.lt/data/Parsed_Not_Capuchinbird_Clips/crickets-sound-effect-23.wav\n",
            "⬇️ Downloading: https://neat-cities-clean.loca.lt/data/Parsed_Not_Capuchinbird_Clips/crickets-sound-effect-24.wav\n",
            "⬇️ Downloading: https://neat-cities-clean.loca.lt/data/Parsed_Not_Capuchinbird_Clips/crickets-sound-effect-25.wav\n",
            "⬇️ Downloading: https://neat-cities-clean.loca.lt/data/Parsed_Not_Capuchinbird_Clips/crickets-sound-effect-26.wav\n",
            "⬇️ Downloading: https://neat-cities-clean.loca.lt/data/Parsed_Not_Capuchinbird_Clips/crickets-sound-effect-27.wav\n",
            "⬇️ Downloading: https://neat-cities-clean.loca.lt/data/Parsed_Not_Capuchinbird_Clips/crickets-sound-effect-28.wav\n",
            "⬇️ Downloading: https://neat-cities-clean.loca.lt/data/Parsed_Not_Capuchinbird_Clips/crickets-sound-effect-29.wav\n",
            "⬇️ Downloading: https://neat-cities-clean.loca.lt/data/Parsed_Not_Capuchinbird_Clips/crickets-sound-effect-3.wav\n",
            "⬇️ Downloading: https://neat-cities-clean.loca.lt/data/Parsed_Not_Capuchinbird_Clips/crickets-sound-effect-30.wav\n",
            "⬇️ Downloading: https://neat-cities-clean.loca.lt/data/Parsed_Not_Capuchinbird_Clips/crickets-sound-effect-31.wav\n",
            "⬇️ Downloading: https://neat-cities-clean.loca.lt/data/Parsed_Not_Capuchinbird_Clips/crickets-sound-effect-32.wav\n",
            "⬇️ Downloading: https://neat-cities-clean.loca.lt/data/Parsed_Not_Capuchinbird_Clips/crickets-sound-effect-33.wav\n",
            "⬇️ Downloading: https://neat-cities-clean.loca.lt/data/Parsed_Not_Capuchinbird_Clips/crickets-sound-effect-34.wav\n",
            "⬇️ Downloading: https://neat-cities-clean.loca.lt/data/Parsed_Not_Capuchinbird_Clips/crickets-sound-effect-4.wav\n",
            "⬇️ Downloading: https://neat-cities-clean.loca.lt/data/Parsed_Not_Capuchinbird_Clips/crickets-sound-effect-5.wav\n",
            "⬇️ Downloading: https://neat-cities-clean.loca.lt/data/Parsed_Not_Capuchinbird_Clips/crickets-sound-effect-6.wav\n",
            "⬇️ Downloading: https://neat-cities-clean.loca.lt/data/Parsed_Not_Capuchinbird_Clips/crickets-sound-effect-7.wav\n",
            "⬇️ Downloading: https://neat-cities-clean.loca.lt/data/Parsed_Not_Capuchinbird_Clips/crickets-sound-effect-8.wav\n",
            "⬇️ Downloading: https://neat-cities-clean.loca.lt/data/Parsed_Not_Capuchinbird_Clips/crickets-sound-effect-9.wav\n",
            "⬇️ Downloading: https://neat-cities-clean.loca.lt/data/Parsed_Not_Capuchinbird_Clips/crow-cawing-sound-effect-0.wav\n",
            "⬇️ Downloading: https://neat-cities-clean.loca.lt/data/Parsed_Not_Capuchinbird_Clips/crow-cawing-sound-effect-1.wav\n",
            "⬇️ Downloading: https://neat-cities-clean.loca.lt/data/Parsed_Not_Capuchinbird_Clips/crow-cawing-sound-effect-10.wav\n",
            "⬇️ Downloading: https://neat-cities-clean.loca.lt/data/Parsed_Not_Capuchinbird_Clips/crow-cawing-sound-effect-11.wav\n",
            "⬇️ Downloading: https://neat-cities-clean.loca.lt/data/Parsed_Not_Capuchinbird_Clips/crow-cawing-sound-effect-12.wav\n",
            "⬇️ Downloading: https://neat-cities-clean.loca.lt/data/Parsed_Not_Capuchinbird_Clips/crow-cawing-sound-effect-13.wav\n",
            "⬇️ Downloading: https://neat-cities-clean.loca.lt/data/Parsed_Not_Capuchinbird_Clips/crow-cawing-sound-effect-14.wav\n",
            "⬇️ Downloading: https://neat-cities-clean.loca.lt/data/Parsed_Not_Capuchinbird_Clips/crow-cawing-sound-effect-15.wav\n",
            "⬇️ Downloading: https://neat-cities-clean.loca.lt/data/Parsed_Not_Capuchinbird_Clips/crow-cawing-sound-effect-2.wav\n",
            "⬇️ Downloading: https://neat-cities-clean.loca.lt/data/Parsed_Not_Capuchinbird_Clips/crow-cawing-sound-effect-3.wav\n",
            "⬇️ Downloading: https://neat-cities-clean.loca.lt/data/Parsed_Not_Capuchinbird_Clips/crow-cawing-sound-effect-4.wav\n",
            "⬇️ Downloading: https://neat-cities-clean.loca.lt/data/Parsed_Not_Capuchinbird_Clips/crow-cawing-sound-effect-5.wav\n",
            "⬇️ Downloading: https://neat-cities-clean.loca.lt/data/Parsed_Not_Capuchinbird_Clips/crow-cawing-sound-effect-6.wav\n",
            "⬇️ Downloading: https://neat-cities-clean.loca.lt/data/Parsed_Not_Capuchinbird_Clips/crow-cawing-sound-effect-7.wav\n",
            "⬇️ Downloading: https://neat-cities-clean.loca.lt/data/Parsed_Not_Capuchinbird_Clips/crow-cawing-sound-effect-8.wav\n",
            "⬇️ Downloading: https://neat-cities-clean.loca.lt/data/Parsed_Not_Capuchinbird_Clips/crow-cawing-sound-effect-9.wav\n",
            "⬇️ Downloading: https://neat-cities-clean.loca.lt/data/Parsed_Not_Capuchinbird_Clips/curlew-sound-0.wav\n",
            "⬇️ Downloading: https://neat-cities-clean.loca.lt/data/Parsed_Not_Capuchinbird_Clips/curlew-sound-1.wav\n",
            "⬇️ Downloading: https://neat-cities-clean.loca.lt/data/Parsed_Not_Capuchinbird_Clips/curlew-sound-2.wav\n",
            "⬇️ Downloading: https://neat-cities-clean.loca.lt/data/Parsed_Not_Capuchinbird_Clips/curlew-sound-3.wav\n",
            "⬇️ Downloading: https://neat-cities-clean.loca.lt/data/Parsed_Not_Capuchinbird_Clips/curlew-sound-4.wav\n",
            "⬇️ Downloading: https://neat-cities-clean.loca.lt/data/Parsed_Not_Capuchinbird_Clips/dove-bird-call-sound-0.wav\n",
            "⬇️ Downloading: https://neat-cities-clean.loca.lt/data/Parsed_Not_Capuchinbird_Clips/dove-bird-call-sound-1.wav\n",
            "⬇️ Downloading: https://neat-cities-clean.loca.lt/data/Parsed_Not_Capuchinbird_Clips/dove-bird-call-sound-2.wav\n",
            "⬇️ Downloading: https://neat-cities-clean.loca.lt/data/Parsed_Not_Capuchinbird_Clips/dove-bird-sounds-0.wav\n",
            "⬇️ Downloading: https://neat-cities-clean.loca.lt/data/Parsed_Not_Capuchinbird_Clips/dove-bird-sounds-1.wav\n",
            "⬇️ Downloading: https://neat-cities-clean.loca.lt/data/Parsed_Not_Capuchinbird_Clips/dove-bird-sounds-2.wav\n",
            "⬇️ Downloading: https://neat-cities-clean.loca.lt/data/Parsed_Not_Capuchinbird_Clips/dove-bird-sounds-3.wav\n",
            "⬇️ Downloading: https://neat-cities-clean.loca.lt/data/Parsed_Not_Capuchinbird_Clips/dove-bird-sounds-4.wav\n",
            "⬇️ Downloading: https://neat-cities-clean.loca.lt/data/Parsed_Not_Capuchinbird_Clips/dove-bird-sounds-5.wav\n",
            "⬇️ Downloading: https://neat-cities-clean.loca.lt/data/Parsed_Not_Capuchinbird_Clips/dove-bird-sounds-6.wav\n",
            "⬇️ Downloading: https://neat-cities-clean.loca.lt/data/Parsed_Not_Capuchinbird_Clips/dove-bird-sounds-7.wav\n",
            "⬇️ Downloading: https://neat-cities-clean.loca.lt/data/Parsed_Not_Capuchinbird_Clips/dove-bird-sounds-8.wav\n",
            "⬇️ Downloading: https://neat-cities-clean.loca.lt/data/Parsed_Not_Capuchinbird_Clips/dove-bird-sounds-9.wav\n",
            "⬇️ Downloading: https://neat-cities-clean.loca.lt/data/Parsed_Not_Capuchinbird_Clips/dove-sound-effect-0.wav\n",
            "⬇️ Downloading: https://neat-cities-clean.loca.lt/data/Parsed_Not_Capuchinbird_Clips/dove-sound-effect-1.wav\n",
            "⬇️ Downloading: https://neat-cities-clean.loca.lt/data/Parsed_Not_Capuchinbird_Clips/dove-sound-effect-2.wav\n",
            "⬇️ Downloading: https://neat-cities-clean.loca.lt/data/Parsed_Not_Capuchinbird_Clips/flock-of-pigeons-cooing-sound-effect-0.wav\n",
            "⬇️ Downloading: https://neat-cities-clean.loca.lt/data/Parsed_Not_Capuchinbird_Clips/flock-of-pigeons-cooing-sound-effect-1.wav\n",
            "⬇️ Downloading: https://neat-cities-clean.loca.lt/data/Parsed_Not_Capuchinbird_Clips/flock-of-pigeons-cooing-sound-effect-2.wav\n",
            "⬇️ Downloading: https://neat-cities-clean.loca.lt/data/Parsed_Not_Capuchinbird_Clips/flock-of-pigeons-cooing-sound-effect-3.wav\n",
            "⬇️ Downloading: https://neat-cities-clean.loca.lt/data/Parsed_Not_Capuchinbird_Clips/flock-of-pigeons-cooing-sound-effect-4.wav\n",
            "⬇️ Downloading: https://neat-cities-clean.loca.lt/data/Parsed_Not_Capuchinbird_Clips/flock-of-pigeons-cooing-sound-effect-5.wav\n",
            "⬇️ Downloading: https://neat-cities-clean.loca.lt/data/Parsed_Not_Capuchinbird_Clips/flock-of-pigeons-cooing-sound-effect-6.wav\n",
            "⬇️ Downloading: https://neat-cities-clean.loca.lt/data/Parsed_Not_Capuchinbird_Clips/forest-birds-and-insects-sound-effect-0.wav\n",
            "⬇️ Downloading: https://neat-cities-clean.loca.lt/data/Parsed_Not_Capuchinbird_Clips/forest-birds-and-insects-sound-effect-1.wav\n",
            "⬇️ Downloading: https://neat-cities-clean.loca.lt/data/Parsed_Not_Capuchinbird_Clips/forest-birds-and-insects-sound-effect-2.wav\n",
            "⬇️ Downloading: https://neat-cities-clean.loca.lt/data/Parsed_Not_Capuchinbird_Clips/forest-birds-and-insects-sound-effect-3.wav\n",
            "⬇️ Downloading: https://neat-cities-clean.loca.lt/data/Parsed_Not_Capuchinbird_Clips/forest-birds-and-insects-sound-effect-4.wav\n",
            "⬇️ Downloading: https://neat-cities-clean.loca.lt/data/Parsed_Not_Capuchinbird_Clips/killdeer-sound-0.wav\n",
            "⬇️ Downloading: https://neat-cities-clean.loca.lt/data/Parsed_Not_Capuchinbird_Clips/killdeer-sound-1.wav\n",
            "⬇️ Downloading: https://neat-cities-clean.loca.lt/data/Parsed_Not_Capuchinbird_Clips/killdeer-sound-2.wav\n",
            "⬇️ Downloading: https://neat-cities-clean.loca.lt/data/Parsed_Not_Capuchinbird_Clips/killdeer-sound-3.wav\n",
            "⬇️ Downloading: https://neat-cities-clean.loca.lt/data/Parsed_Not_Capuchinbird_Clips/killdeer-sound-4.wav\n",
            "⬇️ Downloading: https://neat-cities-clean.loca.lt/data/Parsed_Not_Capuchinbird_Clips/killdeer-sound-5.wav\n",
            "⬇️ Downloading: https://neat-cities-clean.loca.lt/data/Parsed_Not_Capuchinbird_Clips/killdeer-sound-6.wav\n",
            "⬇️ Downloading: https://neat-cities-clean.loca.lt/data/Parsed_Not_Capuchinbird_Clips/killdeer-sound-7.wav\n",
            "⬇️ Downloading: https://neat-cities-clean.loca.lt/data/Parsed_Not_Capuchinbird_Clips/killdeer-sound-8.wav\n",
            "⬇️ Downloading: https://neat-cities-clean.loca.lt/data/Parsed_Not_Capuchinbird_Clips/killdeer-sound-9.wav\n",
            "⬇️ Downloading: https://neat-cities-clean.loca.lt/data/Parsed_Not_Capuchinbird_Clips/magpie-call-sound-effect-0.wav\n",
            "⬇️ Downloading: https://neat-cities-clean.loca.lt/data/Parsed_Not_Capuchinbird_Clips/magpie-call-sound-effect-1.wav\n",
            "⬇️ Downloading: https://neat-cities-clean.loca.lt/data/Parsed_Not_Capuchinbird_Clips/magpies-and-crows-cawing-sound-effect-0.wav\n",
            "⬇️ Downloading: https://neat-cities-clean.loca.lt/data/Parsed_Not_Capuchinbird_Clips/magpies-and-crows-cawing-sound-effect-1.wav\n",
            "⬇️ Downloading: https://neat-cities-clean.loca.lt/data/Parsed_Not_Capuchinbird_Clips/magpies-and-crows-cawing-sound-effect-10.wav\n",
            "⬇️ Downloading: https://neat-cities-clean.loca.lt/data/Parsed_Not_Capuchinbird_Clips/magpies-and-crows-cawing-sound-effect-11.wav\n",
            "⬇️ Downloading: https://neat-cities-clean.loca.lt/data/Parsed_Not_Capuchinbird_Clips/magpies-and-crows-cawing-sound-effect-12.wav\n",
            "⬇️ Downloading: https://neat-cities-clean.loca.lt/data/Parsed_Not_Capuchinbird_Clips/magpies-and-crows-cawing-sound-effect-13.wav\n",
            "⬇️ Downloading: https://neat-cities-clean.loca.lt/data/Parsed_Not_Capuchinbird_Clips/magpies-and-crows-cawing-sound-effect-14.wav\n",
            "⬇️ Downloading: https://neat-cities-clean.loca.lt/data/Parsed_Not_Capuchinbird_Clips/magpies-and-crows-cawing-sound-effect-15.wav\n",
            "⬇️ Downloading: https://neat-cities-clean.loca.lt/data/Parsed_Not_Capuchinbird_Clips/magpies-and-crows-cawing-sound-effect-16.wav\n",
            "⬇️ Downloading: https://neat-cities-clean.loca.lt/data/Parsed_Not_Capuchinbird_Clips/magpies-and-crows-cawing-sound-effect-17.wav\n",
            "⬇️ Downloading: https://neat-cities-clean.loca.lt/data/Parsed_Not_Capuchinbird_Clips/magpies-and-crows-cawing-sound-effect-18.wav\n",
            "⬇️ Downloading: https://neat-cities-clean.loca.lt/data/Parsed_Not_Capuchinbird_Clips/magpies-and-crows-cawing-sound-effect-19.wav\n",
            "⬇️ Downloading: https://neat-cities-clean.loca.lt/data/Parsed_Not_Capuchinbird_Clips/magpies-and-crows-cawing-sound-effect-2.wav\n",
            "⬇️ Downloading: https://neat-cities-clean.loca.lt/data/Parsed_Not_Capuchinbird_Clips/magpies-and-crows-cawing-sound-effect-20.wav\n",
            "⬇️ Downloading: https://neat-cities-clean.loca.lt/data/Parsed_Not_Capuchinbird_Clips/magpies-and-crows-cawing-sound-effect-21.wav\n",
            "⬇️ Downloading: https://neat-cities-clean.loca.lt/data/Parsed_Not_Capuchinbird_Clips/magpies-and-crows-cawing-sound-effect-3.wav\n",
            "⬇️ Downloading: https://neat-cities-clean.loca.lt/data/Parsed_Not_Capuchinbird_Clips/magpies-and-crows-cawing-sound-effect-4.wav\n",
            "⬇️ Downloading: https://neat-cities-clean.loca.lt/data/Parsed_Not_Capuchinbird_Clips/magpies-and-crows-cawing-sound-effect-5.wav\n",
            "⬇️ Downloading: https://neat-cities-clean.loca.lt/data/Parsed_Not_Capuchinbird_Clips/magpies-and-crows-cawing-sound-effect-6.wav\n",
            "⬇️ Downloading: https://neat-cities-clean.loca.lt/data/Parsed_Not_Capuchinbird_Clips/magpies-and-crows-cawing-sound-effect-7.wav\n",
            "⬇️ Downloading: https://neat-cities-clean.loca.lt/data/Parsed_Not_Capuchinbird_Clips/magpies-and-crows-cawing-sound-effect-8.wav\n",
            "⬇️ Downloading: https://neat-cities-clean.loca.lt/data/Parsed_Not_Capuchinbird_Clips/magpies-and-crows-cawing-sound-effect-9.wav\n",
            "⬇️ Downloading: https://neat-cities-clean.loca.lt/data/Parsed_Not_Capuchinbird_Clips/night-insect-sounds-0.wav\n",
            "⬇️ Downloading: https://neat-cities-clean.loca.lt/data/Parsed_Not_Capuchinbird_Clips/night-insect-sounds-1.wav\n",
            "⬇️ Downloading: https://neat-cities-clean.loca.lt/data/Parsed_Not_Capuchinbird_Clips/night-insect-sounds-10.wav\n",
            "⬇️ Downloading: https://neat-cities-clean.loca.lt/data/Parsed_Not_Capuchinbird_Clips/night-insect-sounds-11.wav\n",
            "⬇️ Downloading: https://neat-cities-clean.loca.lt/data/Parsed_Not_Capuchinbird_Clips/night-insect-sounds-12.wav\n",
            "⬇️ Downloading: https://neat-cities-clean.loca.lt/data/Parsed_Not_Capuchinbird_Clips/night-insect-sounds-13.wav\n",
            "⬇️ Downloading: https://neat-cities-clean.loca.lt/data/Parsed_Not_Capuchinbird_Clips/night-insect-sounds-14.wav\n",
            "⬇️ Downloading: https://neat-cities-clean.loca.lt/data/Parsed_Not_Capuchinbird_Clips/night-insect-sounds-15.wav\n",
            "⬇️ Downloading: https://neat-cities-clean.loca.lt/data/Parsed_Not_Capuchinbird_Clips/night-insect-sounds-16.wav\n",
            "⬇️ Downloading: https://neat-cities-clean.loca.lt/data/Parsed_Not_Capuchinbird_Clips/night-insect-sounds-17.wav\n",
            "⬇️ Downloading: https://neat-cities-clean.loca.lt/data/Parsed_Not_Capuchinbird_Clips/night-insect-sounds-18.wav\n",
            "⬇️ Downloading: https://neat-cities-clean.loca.lt/data/Parsed_Not_Capuchinbird_Clips/night-insect-sounds-19.wav\n",
            "⬇️ Downloading: https://neat-cities-clean.loca.lt/data/Parsed_Not_Capuchinbird_Clips/night-insect-sounds-2.wav\n",
            "⬇️ Downloading: https://neat-cities-clean.loca.lt/data/Parsed_Not_Capuchinbird_Clips/night-insect-sounds-20.wav\n",
            "⬇️ Downloading: https://neat-cities-clean.loca.lt/data/Parsed_Not_Capuchinbird_Clips/night-insect-sounds-21.wav\n",
            "⬇️ Downloading: https://neat-cities-clean.loca.lt/data/Parsed_Not_Capuchinbird_Clips/night-insect-sounds-22.wav\n",
            "⬇️ Downloading: https://neat-cities-clean.loca.lt/data/Parsed_Not_Capuchinbird_Clips/night-insect-sounds-23.wav\n",
            "⬇️ Downloading: https://neat-cities-clean.loca.lt/data/Parsed_Not_Capuchinbird_Clips/night-insect-sounds-24.wav\n",
            "⬇️ Downloading: https://neat-cities-clean.loca.lt/data/Parsed_Not_Capuchinbird_Clips/night-insect-sounds-25.wav\n",
            "⬇️ Downloading: https://neat-cities-clean.loca.lt/data/Parsed_Not_Capuchinbird_Clips/night-insect-sounds-26.wav\n",
            "⬇️ Downloading: https://neat-cities-clean.loca.lt/data/Parsed_Not_Capuchinbird_Clips/night-insect-sounds-27.wav\n",
            "⬇️ Downloading: https://neat-cities-clean.loca.lt/data/Parsed_Not_Capuchinbird_Clips/night-insect-sounds-28.wav\n",
            "⬇️ Downloading: https://neat-cities-clean.loca.lt/data/Parsed_Not_Capuchinbird_Clips/night-insect-sounds-29.wav\n",
            "⬇️ Downloading: https://neat-cities-clean.loca.lt/data/Parsed_Not_Capuchinbird_Clips/night-insect-sounds-3.wav\n",
            "⬇️ Downloading: https://neat-cities-clean.loca.lt/data/Parsed_Not_Capuchinbird_Clips/night-insect-sounds-30.wav\n",
            "⬇️ Downloading: https://neat-cities-clean.loca.lt/data/Parsed_Not_Capuchinbird_Clips/night-insect-sounds-31.wav\n",
            "⬇️ Downloading: https://neat-cities-clean.loca.lt/data/Parsed_Not_Capuchinbird_Clips/night-insect-sounds-32.wav\n",
            "⬇️ Downloading: https://neat-cities-clean.loca.lt/data/Parsed_Not_Capuchinbird_Clips/night-insect-sounds-33.wav\n",
            "⬇️ Downloading: https://neat-cities-clean.loca.lt/data/Parsed_Not_Capuchinbird_Clips/night-insect-sounds-34.wav\n",
            "⬇️ Downloading: https://neat-cities-clean.loca.lt/data/Parsed_Not_Capuchinbird_Clips/night-insect-sounds-35.wav\n",
            "⬇️ Downloading: https://neat-cities-clean.loca.lt/data/Parsed_Not_Capuchinbird_Clips/night-insect-sounds-36.wav\n",
            "⬇️ Downloading: https://neat-cities-clean.loca.lt/data/Parsed_Not_Capuchinbird_Clips/night-insect-sounds-37.wav\n",
            "⬇️ Downloading: https://neat-cities-clean.loca.lt/data/Parsed_Not_Capuchinbird_Clips/night-insect-sounds-38.wav\n",
            "⬇️ Downloading: https://neat-cities-clean.loca.lt/data/Parsed_Not_Capuchinbird_Clips/night-insect-sounds-39.wav\n",
            "⬇️ Downloading: https://neat-cities-clean.loca.lt/data/Parsed_Not_Capuchinbird_Clips/night-insect-sounds-4.wav\n",
            "⬇️ Downloading: https://neat-cities-clean.loca.lt/data/Parsed_Not_Capuchinbird_Clips/night-insect-sounds-40.wav\n",
            "⬇️ Downloading: https://neat-cities-clean.loca.lt/data/Parsed_Not_Capuchinbird_Clips/night-insect-sounds-41.wav\n",
            "⬇️ Downloading: https://neat-cities-clean.loca.lt/data/Parsed_Not_Capuchinbird_Clips/night-insect-sounds-42.wav\n",
            "⬇️ Downloading: https://neat-cities-clean.loca.lt/data/Parsed_Not_Capuchinbird_Clips/night-insect-sounds-43.wav\n",
            "⬇️ Downloading: https://neat-cities-clean.loca.lt/data/Parsed_Not_Capuchinbird_Clips/night-insect-sounds-44.wav\n",
            "⬇️ Downloading: https://neat-cities-clean.loca.lt/data/Parsed_Not_Capuchinbird_Clips/night-insect-sounds-45.wav\n",
            "⬇️ Downloading: https://neat-cities-clean.loca.lt/data/Parsed_Not_Capuchinbird_Clips/night-insect-sounds-46.wav\n",
            "⬇️ Downloading: https://neat-cities-clean.loca.lt/data/Parsed_Not_Capuchinbird_Clips/night-insect-sounds-47.wav\n",
            "⬇️ Downloading: https://neat-cities-clean.loca.lt/data/Parsed_Not_Capuchinbird_Clips/night-insect-sounds-48.wav\n",
            "⬇️ Downloading: https://neat-cities-clean.loca.lt/data/Parsed_Not_Capuchinbird_Clips/night-insect-sounds-49.wav\n",
            "⬇️ Downloading: https://neat-cities-clean.loca.lt/data/Parsed_Not_Capuchinbird_Clips/night-insect-sounds-5.wav\n",
            "⬇️ Downloading: https://neat-cities-clean.loca.lt/data/Parsed_Not_Capuchinbird_Clips/night-insect-sounds-50.wav\n",
            "⬇️ Downloading: https://neat-cities-clean.loca.lt/data/Parsed_Not_Capuchinbird_Clips/night-insect-sounds-51.wav\n",
            "⬇️ Downloading: https://neat-cities-clean.loca.lt/data/Parsed_Not_Capuchinbird_Clips/night-insect-sounds-52.wav\n",
            "⬇️ Downloading: https://neat-cities-clean.loca.lt/data/Parsed_Not_Capuchinbird_Clips/night-insect-sounds-6.wav\n",
            "⬇️ Downloading: https://neat-cities-clean.loca.lt/data/Parsed_Not_Capuchinbird_Clips/night-insect-sounds-7.wav\n",
            "⬇️ Downloading: https://neat-cities-clean.loca.lt/data/Parsed_Not_Capuchinbird_Clips/night-insect-sounds-8.wav\n",
            "⬇️ Downloading: https://neat-cities-clean.loca.lt/data/Parsed_Not_Capuchinbird_Clips/night-insect-sounds-9.wav\n",
            "⬇️ Downloading: https://neat-cities-clean.loca.lt/data/Parsed_Not_Capuchinbird_Clips/pheasant-sound-0.wav\n",
            "⬇️ Downloading: https://neat-cities-clean.loca.lt/data/Parsed_Not_Capuchinbird_Clips/pheasant-sound-1.wav\n",
            "⬇️ Downloading: https://neat-cities-clean.loca.lt/data/Parsed_Not_Capuchinbird_Clips/pheasant-sound-2.wav\n",
            "⬇️ Downloading: https://neat-cities-clean.loca.lt/data/Parsed_Not_Capuchinbird_Clips/pheasant-sound-3.wav\n",
            "⬇️ Downloading: https://neat-cities-clean.loca.lt/data/Parsed_Not_Capuchinbird_Clips/pond-bird-call-sound-effect-0.wav\n",
            "⬇️ Downloading: https://neat-cities-clean.loca.lt/data/Parsed_Not_Capuchinbird_Clips/rain-thunder-and-crickets-sound-effect-0.wav\n",
            "⬇️ Downloading: https://neat-cities-clean.loca.lt/data/Parsed_Not_Capuchinbird_Clips/rain-thunder-and-crickets-sound-effect-1.wav\n",
            "⬇️ Downloading: https://neat-cities-clean.loca.lt/data/Parsed_Not_Capuchinbird_Clips/rain-thunder-and-crickets-sound-effect-10.wav\n",
            "⬇️ Downloading: https://neat-cities-clean.loca.lt/data/Parsed_Not_Capuchinbird_Clips/rain-thunder-and-crickets-sound-effect-11.wav\n",
            "⬇️ Downloading: https://neat-cities-clean.loca.lt/data/Parsed_Not_Capuchinbird_Clips/rain-thunder-and-crickets-sound-effect-12.wav\n",
            "⬇️ Downloading: https://neat-cities-clean.loca.lt/data/Parsed_Not_Capuchinbird_Clips/rain-thunder-and-crickets-sound-effect-13.wav\n",
            "⬇️ Downloading: https://neat-cities-clean.loca.lt/data/Parsed_Not_Capuchinbird_Clips/rain-thunder-and-crickets-sound-effect-14.wav\n",
            "⬇️ Downloading: https://neat-cities-clean.loca.lt/data/Parsed_Not_Capuchinbird_Clips/rain-thunder-and-crickets-sound-effect-15.wav\n",
            "⬇️ Downloading: https://neat-cities-clean.loca.lt/data/Parsed_Not_Capuchinbird_Clips/rain-thunder-and-crickets-sound-effect-16.wav\n",
            "⬇️ Downloading: https://neat-cities-clean.loca.lt/data/Parsed_Not_Capuchinbird_Clips/rain-thunder-and-crickets-sound-effect-17.wav\n",
            "⬇️ Downloading: https://neat-cities-clean.loca.lt/data/Parsed_Not_Capuchinbird_Clips/rain-thunder-and-crickets-sound-effect-18.wav\n",
            "⬇️ Downloading: https://neat-cities-clean.loca.lt/data/Parsed_Not_Capuchinbird_Clips/rain-thunder-and-crickets-sound-effect-19.wav\n",
            "⬇️ Downloading: https://neat-cities-clean.loca.lt/data/Parsed_Not_Capuchinbird_Clips/rain-thunder-and-crickets-sound-effect-2.wav\n",
            "⬇️ Downloading: https://neat-cities-clean.loca.lt/data/Parsed_Not_Capuchinbird_Clips/rain-thunder-and-crickets-sound-effect-20.wav\n",
            "⬇️ Downloading: https://neat-cities-clean.loca.lt/data/Parsed_Not_Capuchinbird_Clips/rain-thunder-and-crickets-sound-effect-21.wav\n",
            "⬇️ Downloading: https://neat-cities-clean.loca.lt/data/Parsed_Not_Capuchinbird_Clips/rain-thunder-and-crickets-sound-effect-22.wav\n",
            "⬇️ Downloading: https://neat-cities-clean.loca.lt/data/Parsed_Not_Capuchinbird_Clips/rain-thunder-and-crickets-sound-effect-23.wav\n",
            "⬇️ Downloading: https://neat-cities-clean.loca.lt/data/Parsed_Not_Capuchinbird_Clips/rain-thunder-and-crickets-sound-effect-24.wav\n",
            "⬇️ Downloading: https://neat-cities-clean.loca.lt/data/Parsed_Not_Capuchinbird_Clips/rain-thunder-and-crickets-sound-effect-25.wav\n",
            "⬇️ Downloading: https://neat-cities-clean.loca.lt/data/Parsed_Not_Capuchinbird_Clips/rain-thunder-and-crickets-sound-effect-26.wav\n",
            "⬇️ Downloading: https://neat-cities-clean.loca.lt/data/Parsed_Not_Capuchinbird_Clips/rain-thunder-and-crickets-sound-effect-27.wav\n",
            "⬇️ Downloading: https://neat-cities-clean.loca.lt/data/Parsed_Not_Capuchinbird_Clips/rain-thunder-and-crickets-sound-effect-28.wav\n",
            "⬇️ Downloading: https://neat-cities-clean.loca.lt/data/Parsed_Not_Capuchinbird_Clips/rain-thunder-and-crickets-sound-effect-29.wav\n",
            "⬇️ Downloading: https://neat-cities-clean.loca.lt/data/Parsed_Not_Capuchinbird_Clips/rain-thunder-and-crickets-sound-effect-3.wav\n",
            "⬇️ Downloading: https://neat-cities-clean.loca.lt/data/Parsed_Not_Capuchinbird_Clips/rain-thunder-and-crickets-sound-effect-30.wav\n",
            "⬇️ Downloading: https://neat-cities-clean.loca.lt/data/Parsed_Not_Capuchinbird_Clips/rain-thunder-and-crickets-sound-effect-31.wav\n",
            "⬇️ Downloading: https://neat-cities-clean.loca.lt/data/Parsed_Not_Capuchinbird_Clips/rain-thunder-and-crickets-sound-effect-32.wav\n",
            "⬇️ Downloading: https://neat-cities-clean.loca.lt/data/Parsed_Not_Capuchinbird_Clips/rain-thunder-and-crickets-sound-effect-33.wav\n",
            "⬇️ Downloading: https://neat-cities-clean.loca.lt/data/Parsed_Not_Capuchinbird_Clips/rain-thunder-and-crickets-sound-effect-34.wav\n",
            "⬇️ Downloading: https://neat-cities-clean.loca.lt/data/Parsed_Not_Capuchinbird_Clips/rain-thunder-and-crickets-sound-effect-35.wav\n",
            "⬇️ Downloading: https://neat-cities-clean.loca.lt/data/Parsed_Not_Capuchinbird_Clips/rain-thunder-and-crickets-sound-effect-36.wav\n",
            "⬇️ Downloading: https://neat-cities-clean.loca.lt/data/Parsed_Not_Capuchinbird_Clips/rain-thunder-and-crickets-sound-effect-37.wav\n",
            "⬇️ Downloading: https://neat-cities-clean.loca.lt/data/Parsed_Not_Capuchinbird_Clips/rain-thunder-and-crickets-sound-effect-38.wav\n",
            "⬇️ Downloading: https://neat-cities-clean.loca.lt/data/Parsed_Not_Capuchinbird_Clips/rain-thunder-and-crickets-sound-effect-39.wav\n",
            "⬇️ Downloading: https://neat-cities-clean.loca.lt/data/Parsed_Not_Capuchinbird_Clips/rain-thunder-and-crickets-sound-effect-4.wav\n",
            "⬇️ Downloading: https://neat-cities-clean.loca.lt/data/Parsed_Not_Capuchinbird_Clips/rain-thunder-and-crickets-sound-effect-40.wav\n",
            "⬇️ Downloading: https://neat-cities-clean.loca.lt/data/Parsed_Not_Capuchinbird_Clips/rain-thunder-and-crickets-sound-effect-41.wav\n",
            "⬇️ Downloading: https://neat-cities-clean.loca.lt/data/Parsed_Not_Capuchinbird_Clips/rain-thunder-and-crickets-sound-effect-42.wav\n",
            "⬇️ Downloading: https://neat-cities-clean.loca.lt/data/Parsed_Not_Capuchinbird_Clips/rain-thunder-and-crickets-sound-effect-43.wav\n",
            "⬇️ Downloading: https://neat-cities-clean.loca.lt/data/Parsed_Not_Capuchinbird_Clips/rain-thunder-and-crickets-sound-effect-44.wav\n",
            "⬇️ Downloading: https://neat-cities-clean.loca.lt/data/Parsed_Not_Capuchinbird_Clips/rain-thunder-and-crickets-sound-effect-45.wav\n",
            "⬇️ Downloading: https://neat-cities-clean.loca.lt/data/Parsed_Not_Capuchinbird_Clips/rain-thunder-and-crickets-sound-effect-46.wav\n",
            "⬇️ Downloading: https://neat-cities-clean.loca.lt/data/Parsed_Not_Capuchinbird_Clips/rain-thunder-and-crickets-sound-effect-47.wav\n",
            "⬇️ Downloading: https://neat-cities-clean.loca.lt/data/Parsed_Not_Capuchinbird_Clips/rain-thunder-and-crickets-sound-effect-5.wav\n",
            "⬇️ Downloading: https://neat-cities-clean.loca.lt/data/Parsed_Not_Capuchinbird_Clips/rain-thunder-and-crickets-sound-effect-6.wav\n",
            "⬇️ Downloading: https://neat-cities-clean.loca.lt/data/Parsed_Not_Capuchinbird_Clips/rain-thunder-and-crickets-sound-effect-7.wav\n",
            "⬇️ Downloading: https://neat-cities-clean.loca.lt/data/Parsed_Not_Capuchinbird_Clips/rain-thunder-and-crickets-sound-effect-8.wav\n",
            "⬇️ Downloading: https://neat-cities-clean.loca.lt/data/Parsed_Not_Capuchinbird_Clips/rain-thunder-and-crickets-sound-effect-9.wav\n",
            "⬇️ Downloading: https://neat-cities-clean.loca.lt/data/Parsed_Not_Capuchinbird_Clips/robin-chirping-0.wav\n",
            "⬇️ Downloading: https://neat-cities-clean.loca.lt/data/Parsed_Not_Capuchinbird_Clips/robin-chirping-1.wav\n",
            "⬇️ Downloading: https://neat-cities-clean.loca.lt/data/Parsed_Not_Capuchinbird_Clips/robin-chirping-10.wav\n",
            "⬇️ Downloading: https://neat-cities-clean.loca.lt/data/Parsed_Not_Capuchinbird_Clips/robin-chirping-11.wav\n",
            "⬇️ Downloading: https://neat-cities-clean.loca.lt/data/Parsed_Not_Capuchinbird_Clips/robin-chirping-12.wav\n",
            "⬇️ Downloading: https://neat-cities-clean.loca.lt/data/Parsed_Not_Capuchinbird_Clips/robin-chirping-13.wav\n",
            "⬇️ Downloading: https://neat-cities-clean.loca.lt/data/Parsed_Not_Capuchinbird_Clips/robin-chirping-14.wav\n",
            "⬇️ Downloading: https://neat-cities-clean.loca.lt/data/Parsed_Not_Capuchinbird_Clips/robin-chirping-15.wav\n",
            "⬇️ Downloading: https://neat-cities-clean.loca.lt/data/Parsed_Not_Capuchinbird_Clips/robin-chirping-16.wav\n",
            "⬇️ Downloading: https://neat-cities-clean.loca.lt/data/Parsed_Not_Capuchinbird_Clips/robin-chirping-17.wav\n",
            "⬇️ Downloading: https://neat-cities-clean.loca.lt/data/Parsed_Not_Capuchinbird_Clips/robin-chirping-18.wav\n",
            "⬇️ Downloading: https://neat-cities-clean.loca.lt/data/Parsed_Not_Capuchinbird_Clips/robin-chirping-19.wav\n",
            "⬇️ Downloading: https://neat-cities-clean.loca.lt/data/Parsed_Not_Capuchinbird_Clips/robin-chirping-2.wav\n",
            "⬇️ Downloading: https://neat-cities-clean.loca.lt/data/Parsed_Not_Capuchinbird_Clips/robin-chirping-20.wav\n",
            "⬇️ Downloading: https://neat-cities-clean.loca.lt/data/Parsed_Not_Capuchinbird_Clips/robin-chirping-21.wav\n",
            "⬇️ Downloading: https://neat-cities-clean.loca.lt/data/Parsed_Not_Capuchinbird_Clips/robin-chirping-22.wav\n",
            "⬇️ Downloading: https://neat-cities-clean.loca.lt/data/Parsed_Not_Capuchinbird_Clips/robin-chirping-23.wav\n",
            "⬇️ Downloading: https://neat-cities-clean.loca.lt/data/Parsed_Not_Capuchinbird_Clips/robin-chirping-24.wav\n",
            "⬇️ Downloading: https://neat-cities-clean.loca.lt/data/Parsed_Not_Capuchinbird_Clips/robin-chirping-25.wav\n",
            "⬇️ Downloading: https://neat-cities-clean.loca.lt/data/Parsed_Not_Capuchinbird_Clips/robin-chirping-26.wav\n",
            "⬇️ Downloading: https://neat-cities-clean.loca.lt/data/Parsed_Not_Capuchinbird_Clips/robin-chirping-27.wav\n",
            "⬇️ Downloading: https://neat-cities-clean.loca.lt/data/Parsed_Not_Capuchinbird_Clips/robin-chirping-28.wav\n",
            "⬇️ Downloading: https://neat-cities-clean.loca.lt/data/Parsed_Not_Capuchinbird_Clips/robin-chirping-29.wav\n",
            "⬇️ Downloading: https://neat-cities-clean.loca.lt/data/Parsed_Not_Capuchinbird_Clips/robin-chirping-3.wav\n",
            "⬇️ Downloading: https://neat-cities-clean.loca.lt/data/Parsed_Not_Capuchinbird_Clips/robin-chirping-30.wav\n",
            "⬇️ Downloading: https://neat-cities-clean.loca.lt/data/Parsed_Not_Capuchinbird_Clips/robin-chirping-31.wav\n",
            "⬇️ Downloading: https://neat-cities-clean.loca.lt/data/Parsed_Not_Capuchinbird_Clips/robin-chirping-32.wav\n",
            "⬇️ Downloading: https://neat-cities-clean.loca.lt/data/Parsed_Not_Capuchinbird_Clips/robin-chirping-33.wav\n",
            "⬇️ Downloading: https://neat-cities-clean.loca.lt/data/Parsed_Not_Capuchinbird_Clips/robin-chirping-4.wav\n",
            "⬇️ Downloading: https://neat-cities-clean.loca.lt/data/Parsed_Not_Capuchinbird_Clips/robin-chirping-5.wav\n",
            "⬇️ Downloading: https://neat-cities-clean.loca.lt/data/Parsed_Not_Capuchinbird_Clips/robin-chirping-6.wav\n",
            "⬇️ Downloading: https://neat-cities-clean.loca.lt/data/Parsed_Not_Capuchinbird_Clips/robin-chirping-7.wav\n",
            "⬇️ Downloading: https://neat-cities-clean.loca.lt/data/Parsed_Not_Capuchinbird_Clips/robin-chirping-8.wav\n",
            "⬇️ Downloading: https://neat-cities-clean.loca.lt/data/Parsed_Not_Capuchinbird_Clips/robin-chirping-9.wav\n",
            "⬇️ Downloading: https://neat-cities-clean.loca.lt/data/Parsed_Not_Capuchinbird_Clips/rooster-call-sound-0.wav\n",
            "⬇️ Downloading: https://neat-cities-clean.loca.lt/data/Parsed_Not_Capuchinbird_Clips/screech-owl-sounds-at-night-0.wav\n",
            "⬇️ Downloading: https://neat-cities-clean.loca.lt/data/Parsed_Not_Capuchinbird_Clips/screech-owl-sounds-at-night-1.wav\n",
            "⬇️ Downloading: https://neat-cities-clean.loca.lt/data/Parsed_Not_Capuchinbird_Clips/screech-owl-sounds-at-night-2.wav\n",
            "⬇️ Downloading: https://neat-cities-clean.loca.lt/data/Parsed_Not_Capuchinbird_Clips/screech-owl-sounds-at-night-3.wav\n",
            "⬇️ Downloading: https://neat-cities-clean.loca.lt/data/Parsed_Not_Capuchinbird_Clips/screech-owl-sounds-at-night-4.wav\n",
            "⬇️ Downloading: https://neat-cities-clean.loca.lt/data/Parsed_Not_Capuchinbird_Clips/screech-owl-sounds-at-night-5.wav\n",
            "⬇️ Downloading: https://neat-cities-clean.loca.lt/data/Parsed_Not_Capuchinbird_Clips/screech-owl-sounds-at-night-6.wav\n",
            "⬇️ Downloading: https://neat-cities-clean.loca.lt/data/Parsed_Not_Capuchinbird_Clips/screech-owl-sounds-at-night-7.wav\n",
            "⬇️ Downloading: https://neat-cities-clean.loca.lt/data/Parsed_Not_Capuchinbird_Clips/seagull-sound-in-distance-0.wav\n",
            "⬇️ Downloading: https://neat-cities-clean.loca.lt/data/Parsed_Not_Capuchinbird_Clips/seagull-sound-in-distance-1.wav\n",
            "⬇️ Downloading: https://neat-cities-clean.loca.lt/data/Parsed_Not_Capuchinbird_Clips/sparrow-sound-effect-0.wav\n",
            "⬇️ Downloading: https://neat-cities-clean.loca.lt/data/Parsed_Not_Capuchinbird_Clips/sparrow-sound-effect-1.wav\n",
            "⬇️ Downloading: https://neat-cities-clean.loca.lt/data/Parsed_Not_Capuchinbird_Clips/sparrow-sound-effect-10.wav\n",
            "⬇️ Downloading: https://neat-cities-clean.loca.lt/data/Parsed_Not_Capuchinbird_Clips/sparrow-sound-effect-11.wav\n",
            "⬇️ Downloading: https://neat-cities-clean.loca.lt/data/Parsed_Not_Capuchinbird_Clips/sparrow-sound-effect-12.wav\n",
            "⬇️ Downloading: https://neat-cities-clean.loca.lt/data/Parsed_Not_Capuchinbird_Clips/sparrow-sound-effect-13.wav\n",
            "⬇️ Downloading: https://neat-cities-clean.loca.lt/data/Parsed_Not_Capuchinbird_Clips/sparrow-sound-effect-14.wav\n",
            "⬇️ Downloading: https://neat-cities-clean.loca.lt/data/Parsed_Not_Capuchinbird_Clips/sparrow-sound-effect-15.wav\n",
            "⬇️ Downloading: https://neat-cities-clean.loca.lt/data/Parsed_Not_Capuchinbird_Clips/sparrow-sound-effect-16.wav\n",
            "⬇️ Downloading: https://neat-cities-clean.loca.lt/data/Parsed_Not_Capuchinbird_Clips/sparrow-sound-effect-17.wav\n",
            "⬇️ Downloading: https://neat-cities-clean.loca.lt/data/Parsed_Not_Capuchinbird_Clips/sparrow-sound-effect-18.wav\n",
            "⬇️ Downloading: https://neat-cities-clean.loca.lt/data/Parsed_Not_Capuchinbird_Clips/sparrow-sound-effect-19.wav\n",
            "⬇️ Downloading: https://neat-cities-clean.loca.lt/data/Parsed_Not_Capuchinbird_Clips/sparrow-sound-effect-2.wav\n",
            "⬇️ Downloading: https://neat-cities-clean.loca.lt/data/Parsed_Not_Capuchinbird_Clips/sparrow-sound-effect-20.wav\n",
            "⬇️ Downloading: https://neat-cities-clean.loca.lt/data/Parsed_Not_Capuchinbird_Clips/sparrow-sound-effect-21.wav\n",
            "⬇️ Downloading: https://neat-cities-clean.loca.lt/data/Parsed_Not_Capuchinbird_Clips/sparrow-sound-effect-22.wav\n",
            "⬇️ Downloading: https://neat-cities-clean.loca.lt/data/Parsed_Not_Capuchinbird_Clips/sparrow-sound-effect-23.wav\n",
            "⬇️ Downloading: https://neat-cities-clean.loca.lt/data/Parsed_Not_Capuchinbird_Clips/sparrow-sound-effect-24.wav\n",
            "⬇️ Downloading: https://neat-cities-clean.loca.lt/data/Parsed_Not_Capuchinbird_Clips/sparrow-sound-effect-25.wav\n",
            "⬇️ Downloading: https://neat-cities-clean.loca.lt/data/Parsed_Not_Capuchinbird_Clips/sparrow-sound-effect-26.wav\n",
            "⬇️ Downloading: https://neat-cities-clean.loca.lt/data/Parsed_Not_Capuchinbird_Clips/sparrow-sound-effect-27.wav\n",
            "⬇️ Downloading: https://neat-cities-clean.loca.lt/data/Parsed_Not_Capuchinbird_Clips/sparrow-sound-effect-28.wav\n",
            "⬇️ Downloading: https://neat-cities-clean.loca.lt/data/Parsed_Not_Capuchinbird_Clips/sparrow-sound-effect-29.wav\n",
            "⬇️ Downloading: https://neat-cities-clean.loca.lt/data/Parsed_Not_Capuchinbird_Clips/sparrow-sound-effect-3.wav\n",
            "⬇️ Downloading: https://neat-cities-clean.loca.lt/data/Parsed_Not_Capuchinbird_Clips/sparrow-sound-effect-30.wav\n",
            "⬇️ Downloading: https://neat-cities-clean.loca.lt/data/Parsed_Not_Capuchinbird_Clips/sparrow-sound-effect-31.wav\n",
            "⬇️ Downloading: https://neat-cities-clean.loca.lt/data/Parsed_Not_Capuchinbird_Clips/sparrow-sound-effect-32.wav\n",
            "⬇️ Downloading: https://neat-cities-clean.loca.lt/data/Parsed_Not_Capuchinbird_Clips/sparrow-sound-effect-33.wav\n",
            "⬇️ Downloading: https://neat-cities-clean.loca.lt/data/Parsed_Not_Capuchinbird_Clips/sparrow-sound-effect-34.wav\n",
            "⬇️ Downloading: https://neat-cities-clean.loca.lt/data/Parsed_Not_Capuchinbird_Clips/sparrow-sound-effect-35.wav\n",
            "⬇️ Downloading: https://neat-cities-clean.loca.lt/data/Parsed_Not_Capuchinbird_Clips/sparrow-sound-effect-36.wav\n",
            "⬇️ Downloading: https://neat-cities-clean.loca.lt/data/Parsed_Not_Capuchinbird_Clips/sparrow-sound-effect-37.wav\n",
            "⬇️ Downloading: https://neat-cities-clean.loca.lt/data/Parsed_Not_Capuchinbird_Clips/sparrow-sound-effect-38.wav\n",
            "⬇️ Downloading: https://neat-cities-clean.loca.lt/data/Parsed_Not_Capuchinbird_Clips/sparrow-sound-effect-39.wav\n",
            "⬇️ Downloading: https://neat-cities-clean.loca.lt/data/Parsed_Not_Capuchinbird_Clips/sparrow-sound-effect-4.wav\n",
            "⬇️ Downloading: https://neat-cities-clean.loca.lt/data/Parsed_Not_Capuchinbird_Clips/sparrow-sound-effect-40.wav\n",
            "⬇️ Downloading: https://neat-cities-clean.loca.lt/data/Parsed_Not_Capuchinbird_Clips/sparrow-sound-effect-41.wav\n",
            "⬇️ Downloading: https://neat-cities-clean.loca.lt/data/Parsed_Not_Capuchinbird_Clips/sparrow-sound-effect-42.wav\n",
            "⬇️ Downloading: https://neat-cities-clean.loca.lt/data/Parsed_Not_Capuchinbird_Clips/sparrow-sound-effect-43.wav\n",
            "⬇️ Downloading: https://neat-cities-clean.loca.lt/data/Parsed_Not_Capuchinbird_Clips/sparrow-sound-effect-44.wav\n",
            "⬇️ Downloading: https://neat-cities-clean.loca.lt/data/Parsed_Not_Capuchinbird_Clips/sparrow-sound-effect-45.wav\n",
            "⬇️ Downloading: https://neat-cities-clean.loca.lt/data/Parsed_Not_Capuchinbird_Clips/sparrow-sound-effect-46.wav\n",
            "⬇️ Downloading: https://neat-cities-clean.loca.lt/data/Parsed_Not_Capuchinbird_Clips/sparrow-sound-effect-47.wav\n",
            "⬇️ Downloading: https://neat-cities-clean.loca.lt/data/Parsed_Not_Capuchinbird_Clips/sparrow-sound-effect-48.wav\n",
            "⬇️ Downloading: https://neat-cities-clean.loca.lt/data/Parsed_Not_Capuchinbird_Clips/sparrow-sound-effect-49.wav\n",
            "⬇️ Downloading: https://neat-cities-clean.loca.lt/data/Parsed_Not_Capuchinbird_Clips/sparrow-sound-effect-5.wav\n",
            "⬇️ Downloading: https://neat-cities-clean.loca.lt/data/Parsed_Not_Capuchinbird_Clips/sparrow-sound-effect-50.wav\n",
            "⬇️ Downloading: https://neat-cities-clean.loca.lt/data/Parsed_Not_Capuchinbird_Clips/sparrow-sound-effect-51.wav\n",
            "⬇️ Downloading: https://neat-cities-clean.loca.lt/data/Parsed_Not_Capuchinbird_Clips/sparrow-sound-effect-6.wav\n",
            "⬇️ Downloading: https://neat-cities-clean.loca.lt/data/Parsed_Not_Capuchinbird_Clips/sparrow-sound-effect-7.wav\n",
            "⬇️ Downloading: https://neat-cities-clean.loca.lt/data/Parsed_Not_Capuchinbird_Clips/sparrow-sound-effect-8.wav\n",
            "⬇️ Downloading: https://neat-cities-clean.loca.lt/data/Parsed_Not_Capuchinbird_Clips/sparrow-sound-effect-9.wav\n",
            "⬇️ Downloading: https://neat-cities-clean.loca.lt/data/Parsed_Not_Capuchinbird_Clips/spooky-owl-sound-effect-0.wav\n",
            "⬇️ Downloading: https://neat-cities-clean.loca.lt/data/Parsed_Not_Capuchinbird_Clips/tawny-owl-sounds-0.wav\n",
            "⬇️ Downloading: https://neat-cities-clean.loca.lt/data/Parsed_Not_Capuchinbird_Clips/tawny-owl-sounds-1.wav\n",
            "⬇️ Downloading: https://neat-cities-clean.loca.lt/data/Parsed_Not_Capuchinbird_Clips/tawny-owl-sounds-2.wav\n",
            "⬇️ Downloading: https://neat-cities-clean.loca.lt/data/Parsed_Not_Capuchinbird_Clips/tawny-owl-sounds-3.wav\n",
            "⬇️ Downloading: https://neat-cities-clean.loca.lt/data/Parsed_Not_Capuchinbird_Clips/tawny-owl-sounds-4.wav\n",
            "⬇️ Downloading: https://neat-cities-clean.loca.lt/data/Parsed_Not_Capuchinbird_Clips/tawny-owl-sounds-5.wav\n",
            "⬇️ Downloading: https://neat-cities-clean.loca.lt/data/Parsed_Not_Capuchinbird_Clips/tawny-owl-sounds-6.wav\n",
            "⬇️ Downloading: https://neat-cities-clean.loca.lt/data/Parsed_Not_Capuchinbird_Clips/tawny-owl-sounds-7.wav\n",
            "⬇️ Downloading: https://neat-cities-clean.loca.lt/data/Parsed_Not_Capuchinbird_Clips/tawny-owl-sounds-8.wav\n",
            "⬇️ Downloading: https://neat-cities-clean.loca.lt/data/Parsed_Not_Capuchinbird_Clips/tawny-owl-sounds-9.wav\n"
          ]
        }
      ],
      "source": [
        "import os\n",
        "import requests\n",
        "from urllib.parse import urljoin, unquote\n",
        "from bs4 import BeautifulSoup\n",
        "import re\n",
        "\n",
        "BASE_URL = \"https://neat-cities-clean.loca.lt\"\n",
        "\n",
        "def list_files_recursive(base_url, path=\"\"):\n",
        "    url = urljoin(base_url, path)\n",
        "    print(f\"📂 Scanning: {url}\")\n",
        "    try:\n",
        "        r = requests.get(url, timeout=10)\n",
        "        r.raise_for_status()\n",
        "    except Exception as e:\n",
        "        print(f\"❌ Failed to access: {url} — {e}\")\n",
        "        return []\n",
        "\n",
        "    soup = BeautifulSoup(r.text, 'html.parser')\n",
        "    files = []\n",
        "\n",
        "    for link in soup.find_all('a', href=True):\n",
        "        href = link['href']\n",
        "        if href in ['../', './']:\n",
        "            continue\n",
        "\n",
        "        name = unquote(href)\n",
        "        full_path = os.path.join(path, name)\n",
        "\n",
        "        if href.endswith('/'):\n",
        "            # Go deeper into subdirectory\n",
        "            files += list_files_recursive(base_url, full_path)\n",
        "        else:\n",
        "            files.append(full_path)\n",
        "\n",
        "    return files\n",
        "\n",
        "files = list_files_recursive(BASE_URL, \"data/\")\n",
        "\n",
        "\n",
        "for file_path in files:\n",
        "    file_url = urljoin(BASE_URL, file_path)\n",
        "    print(f\"⬇️ Downloading: {file_url}\")\n",
        "    try:\n",
        "        r = requests.get(file_url, timeout=30)\n",
        "        r.raise_for_status()\n",
        "    except Exception as e:\n",
        "        print(f\"❌ Failed to download {file_url}: {e}\")\n",
        "        continue\n",
        "\n",
        "    local_path = os.path.join(\"dataset\", file_path)\n",
        "    os.makedirs(os.path.dirname(local_path), exist_ok=True)\n",
        "    with open(local_path, \"wb\") as f:\n",
        "        f.write(r.content)"
      ]
    },
    {
      "cell_type": "code",
      "source": [
        "import matplotlib.pyplot as plt\n",
        "import tensorflow as tf\n",
        "import librosa\n",
        "import tensorflow_io as tfio\n",
        "import numpy as np\n",
        "import os"
      ],
      "metadata": {
        "id": "dQMOzpXJ28rp"
      },
      "execution_count": null,
      "outputs": []
    },
    {
      "cell_type": "code",
      "source": [
        "def load_wav_16k_mono(filename):\n",
        "    audio, _ = librosa.load(filename, sr=16000, mono=True)\n",
        "    return tf.convert_to_tensor(audio, dtype=tf.float32)"
      ],
      "metadata": {
        "id": "-7UvqGi51kus"
      },
      "execution_count": null,
      "outputs": []
    },
    {
      "cell_type": "code",
      "source": [
        "wave = load_wav_16k_mono(\"/content/dataset/data/Parsed_Capuchinbird_Clips/XC3776-3.wav\")\n",
        "nwave = load_wav_16k_mono(\"/content/dataset/data/Parsed_Not_Capuchinbird_Clips/afternoon-birds-song-in-forest-0.wav\")"
      ],
      "metadata": {
        "id": "cy0CIEj972SY"
      },
      "execution_count": null,
      "outputs": []
    },
    {
      "cell_type": "code",
      "source": [
        "plt.plot(wave)\n",
        "plt.plot(nwave)\n",
        "plt.show()"
      ],
      "metadata": {
        "colab": {
          "base_uri": "https://localhost:8080/",
          "height": 430
        },
        "id": "24tYopUx-cm2",
        "outputId": "59ef2b26-1a07-4f5f-d678-dc308aff2174"
      },
      "execution_count": null,
      "outputs": [
        {
          "output_type": "display_data",
          "data": {
            "text/plain": [
              "<Figure size 640x480 with 1 Axes>"
            ],
            "image/png": "[encoded data removed]"
          },
          "metadata": {}
        }
      ]
    },
    {
      "cell_type": "code",
      "source": [
        "POS= \"/content/dataset/data/Parsed_Capuchinbird_Clips\"\n",
        "NEG =\"/content/dataset/data/Parsed_Not_Capuchinbird_Clips\""
      ],
      "metadata": {
        "id": "NsX_oOj6-yJl"
      },
      "execution_count": null,
      "outputs": []
    },
    {
      "cell_type": "code",
      "source": [
        "POS = \"/content/dataset/data/Parsed_Capuchinbird_Clips\"\n",
        "NEG = \"/content/dataset/data/Parsed_Not_Capuchinbird_Clips\"\n",
        "\n",
        "# Create tf.data.Datasets for file paths\n",
        "pos_files = tf.data.Dataset.list_files(f\"{POS}/*.wav\", shuffle=True)\n",
        "neg_files = tf.data.Dataset.list_files(f\"{NEG}/*.wav\", shuffle=True)\n",
        "\n",
        "# Zip with labels: 1 for capuchinbird, 0 for not\n",
        "positives = pos_files.map(lambda x: (x, tf.constant(1)))\n",
        "negatives = neg_files.map(lambda x: (x, tf.constant(0)))\n",
        "\n",
        "# Combine datasets\n",
        "data = positives.concatenate(negatives)\n"
      ],
      "metadata": {
        "id": "iYbun_8bMSZC"
      },
      "execution_count": null,
      "outputs": []
    },
    {
      "cell_type": "code",
      "source": [
        "def load_wav_16k_mono_py(filepath):\n",
        "    filepath = filepath.numpy().decode(\"utf-8\")  # convert Tensor to Python string\n",
        "    waveform, _ = librosa.load(filepath, sr=16000, mono=True)\n",
        "    return waveform"
      ],
      "metadata": {
        "id": "6iTiTjkxN6jo"
      },
      "execution_count": null,
      "outputs": []
    },
    {
      "cell_type": "code",
      "source": [
        "lengths=[]\n",
        "base_path = \"/content/dataset/data/Parsed_Capuchinbird_Clips\"\n",
        "\n",
        "for file in os.listdir(base_path):\n",
        "    if file.endswith(\".wav\"):\n",
        "        full_path = os.path.join(base_path, file)\n",
        "        tensor_wave = load_wav_16k_mono(full_path)\n",
        "        lengths.append(len(tensor_wave))\n"
      ],
      "metadata": {
        "id": "_yv80M2ZBekX"
      },
      "execution_count": null,
      "outputs": []
    },
    {
      "cell_type": "code",
      "source": [
        "import matplotlib.pyplot as plt\n",
        "\n",
        "plt.hist(lengths, bins=30)\n",
        "plt.title(\"Distribution of Audio Lengths (in samples)\")\n",
        "plt.xlabel(\"Length (samples)\")\n",
        "plt.ylabel(\"Count\")\n",
        "plt.show()"
      ],
      "metadata": {
        "colab": {
          "base_uri": "https://localhost:8080/",
          "height": 472
        },
        "id": "8EEV0RQLDyGl",
        "outputId": "e720c9ce-5363-4ea8-afa3-a16fd1f2235a"
      },
      "execution_count": null,
      "outputs": [
        {
          "output_type": "display_data",
          "data": {
            "text/plain": [
              "<Figure size 640x480 with 1 Axes>"
            ],
            "image/png": "[encoded data removed]"
          },
          "metadata": {}
        }
      ]
    },
    {
      "cell_type": "code",
      "source": [
        "tf.math.reduce_mean(lengths)\n"
      ],
      "metadata": {
        "colab": {
          "base_uri": "https://localhost:8080/"
        },
        "id": "7zKHFEMtEVZ7",
        "outputId": "3f7be274-46c6-4d38-ea8a-35e2e26554ed"
      },
      "execution_count": null,
      "outputs": [
        {
          "output_type": "execute_result",
          "data": {
            "text/plain": [
              "<tf.Tensor: shape=(), dtype=int32, numpy=54156>"
            ]
          },
          "metadata": {},
          "execution_count": 13
        }
      ]
    },
    {
      "cell_type": "code",
      "source": [
        "tf.math.reduce_min(lengths)"
      ],
      "metadata": {
        "colab": {
          "base_uri": "https://localhost:8080/"
        },
        "id": "mlgnZ_VHEbdH",
        "outputId": "24a4c83c-0de1-4b6d-c7d8-f4ac3c84c606"
      },
      "execution_count": null,
      "outputs": [
        {
          "output_type": "execute_result",
          "data": {
            "text/plain": [
              "<tf.Tensor: shape=(), dtype=int32, numpy=32000>"
            ]
          },
          "metadata": {},
          "execution_count": 14
        }
      ]
    },
    {
      "cell_type": "code",
      "source": [
        "tf.math.reduce_max(lengths)"
      ],
      "metadata": {
        "colab": {
          "base_uri": "https://localhost:8080/"
        },
        "id": "lryvz3RnEdSf",
        "outputId": "23da610d-94b1-4a31-8aab-d3fe3854cafb"
      },
      "execution_count": null,
      "outputs": [
        {
          "output_type": "execute_result",
          "data": {
            "text/plain": [
              "<tf.Tensor: shape=(), dtype=int32, numpy=80000>"
            ]
          },
          "metadata": {},
          "execution_count": 15
        }
      ]
    },
    {
      "cell_type": "code",
      "source": [
        "import librosa\n",
        "import numpy as np\n",
        "import tensorflow as tf\n",
        "\n",
        "def preprocess(file_path, label):\n",
        "    def load_and_convert(path):\n",
        "        path = path.numpy().decode(\"utf-8\")\n",
        "        y, _ = librosa.load(path, sr=16000, mono=True)\n",
        "\n",
        "        mel = librosa.feature.melspectrogram(y=y, sr=16000, n_mels=64)\n",
        "        log_mel = librosa.power_to_db(mel)\n",
        "\n",
        "        target_width = 150\n",
        "        if log_mel.shape[1] < target_width:\n",
        "            pad_width = target_width - log_mel.shape[1]\n",
        "            log_mel = np.pad(log_mel, ((0, 0), (0, pad_width)))\n",
        "        else:\n",
        "            log_mel = log_mel[:, :target_width]\n",
        "\n",
        "        return log_mel.astype(np.float32)\n",
        "\n",
        "    spectrogram = tf.py_function(func=load_and_convert, inp=[file_path], Tout=tf.float32)\n",
        "    spectrogram.set_shape([64, 150])\n",
        "\n",
        "    return spectrogram, label\n"
      ],
      "metadata": {
        "id": "H9viD5VNEgd-"
      },
      "execution_count": null,
      "outputs": []
    },
    {
      "cell_type": "code",
      "source": [
        "filepath, label = positives.shuffle(buffer_size=10000).as_numpy_iterator().next()"
      ],
      "metadata": {
        "id": "JQ1mJ405Eoas"
      },
      "execution_count": null,
      "outputs": []
    },
    {
      "cell_type": "code",
      "source": [
        "spectrogram, label = preprocess(filepath, label)"
      ],
      "metadata": {
        "id": "KmlscNlrEpar"
      },
      "execution_count": null,
      "outputs": []
    },
    {
      "cell_type": "code",
      "source": [
        "plt.figure(figsize=(30,20))\n",
        "plt.imshow(tf.transpose(spectrogram))\n",
        "plt.title(\"Log-Mel Spectrogram\")\n",
        "plt.xlabel(\"Time\")\n",
        "plt.ylabel(\"Mel Frequency Bin\")\n",
        "plt.colorbar()\n",
        "plt.show()\n"
      ],
      "metadata": {
        "colab": {
          "base_uri": "https://localhost:8080/",
          "height": 1000
        },
        "id": "7SxdmmS9Eq36",
        "outputId": "5cc01acf-56b3-48c8-a841-f3063688a436"
      },
      "execution_count": null,
      "outputs": [
        {
          "output_type": "display_data",
          "data": {
            "text/plain": [
              "<Figure size 3000x2000 with 2 Axes>"
            ],
            "image/png": "[encoded data removed]"
          },
          "metadata": {}
        }
      ]
    },
    {
      "cell_type": "code",
      "source": [
        "data = data.map(preprocess, num_parallel_calls=tf.data.AUTOTUNE)\n",
        "data = data.cache()\n",
        "data = data.shuffle(1000)\n",
        "data = data.batch(16)\n",
        "data = data.prefetch(tf.data.AUTOTUNE)\n"
      ],
      "metadata": {
        "id": "73AZADdoMWUM"
      },
      "execution_count": null,
      "outputs": []
    },
    {
      "cell_type": "code",
      "source": [
        "for spec_batch, label_batch in data.take(1):\n",
        "    print(\"Spec batch shape:\", spec_batch.shape)\n",
        "    print(\"Label batch shape:\", label_batch.shape)"
      ],
      "metadata": {
        "colab": {
          "base_uri": "https://localhost:8080/"
        },
        "id": "MWbg0swYMZvp",
        "outputId": "0f59fbc8-e2ae-43a1-c8ea-b443fa5ea49d"
      },
      "execution_count": null,
      "outputs": [
        {
          "output_type": "stream",
          "name": "stdout",
          "text": [
            "Spec batch shape: (16, 64, 150)\n",
            "Label batch shape: (16,)\n"
          ]
        }
      ]
    },
    {
      "cell_type": "code",
      "source": [
        "train = data.take(36)\n",
        "test = data.skip(36).take(15)"
      ],
      "metadata": {
        "id": "nh0_JCwRGeeP"
      },
      "execution_count": null,
      "outputs": []
    },
    {
      "cell_type": "code",
      "source": [
        "samples, labels = train.as_numpy_iterator().next()"
      ],
      "metadata": {
        "id": "JIPnuIQkGfDb"
      },
      "execution_count": null,
      "outputs": []
    },
    {
      "cell_type": "code",
      "source": [
        "from tensorflow.keras.models import Sequential\n",
        "from tensorflow.keras.layers import Conv2D, Dense, Flatten"
      ],
      "metadata": {
        "id": "JoDMKF84OhX6"
      },
      "execution_count": null,
      "outputs": []
    },
    {
      "cell_type": "code",
      "source": [
        "model = Sequential()\n",
        "model.add(Conv2D(16, (3,3), activation='relu', input_shape=(64, 150, 1)))\n",
        "model.add(Conv2D(16, (3,3), activation='relu'))\n",
        "model.add(Flatten())\n",
        "model.add(Dense(128, activation='relu'))\n",
        "model.add(Dense(1, activation='sigmoid'))\n"
      ],
      "metadata": {
        "colab": {
          "base_uri": "https://localhost:8080/"
        },
        "id": "jv8odQEPOibW",
        "outputId": "f0e988da-abae-4cc3-f6ab-2f8062f65b59"
      },
      "execution_count": null,
      "outputs": [
        {
          "output_type": "stream",
          "name": "stderr",
          "text": [
            "/usr/local/lib/python3.11/dist-packages/keras/src/layers/convolutional/base_conv.py:107: UserWarning: Do not pass an `input_shape`/`input_dim` argument to a layer. When using Sequential models, prefer using an `Input(shape)` object as the first layer in the model instead.\n",
            "  super().__init__(activity_regularizer=activity_regularizer, **kwargs)\n"
          ]
        }
      ]
    },
    {
      "cell_type": "code",
      "source": [
        "model.compile('Adam', loss='BinaryCrossentropy', metrics=[tf.keras.metrics.Recall(),tf.keras.metrics.Precision()])"
      ],
      "metadata": {
        "id": "TsxfEvhOSejr"
      },
      "execution_count": null,
      "outputs": []
    },
    {
      "cell_type": "code",
      "source": [
        "model.summary()"
      ],
      "metadata": {
        "colab": {
          "base_uri": "https://localhost:8080/",
          "height": 293
        },
        "id": "yg1jnNcVOtEn",
        "outputId": "c8a05937-97ee-48a7-d372-dd7afbcffeaf"
      },
      "execution_count": null,
      "outputs": [
        {
          "output_type": "display_data",
          "data": {
            "text/plain": [
              "\u001b[1mModel: \"sequential\"\u001b[0m\n"
            ],
            "text/html": [
              "<pre style=\"white-space:pre;overflow-x:auto;line-height:normal;font-family:Menlo,'DejaVu Sans Mono',consolas,'Courier New',monospace\"><span style=\"font-weight: bold\">Model: \"sequential\"</span>\n",
              "</pre>\n"
            ]
          },
          "metadata": {}
        },
        {
          "output_type": "display_data",
          "data": {
            "text/plain": [
              "┏━━━━━━━━━━━━━━━━━━━━━━━━━━━━━━━━━┳━━━━━━━━━━━━━━━━━━━━━━━━┳━━━━━━━━━━━━━━━┓\n",
              "┃\u001b[1m \u001b[0m\u001b[1mLayer (type)                   \u001b[0m\u001b[1m \u001b[0m┃\u001b[1m \u001b[0m\u001b[1mOutput Shape          \u001b[0m\u001b[1m \u001b[0m┃\u001b[1m \u001b[0m\u001b[1m      Param #\u001b[0m\u001b[1m \u001b[0m┃\n",
              "┡━━━━━━━━━━━━━━━━━━━━━━━━━━━━━━━━━╇━━━━━━━━━━━━━━━━━━━━━━━━╇━━━━━━━━━━━━━━━┩\n",
              "│ conv2d (\u001b[38;5;33mConv2D\u001b[0m)                 │ (\u001b[38;5;45mNone\u001b[0m, \u001b[38;5;34m62\u001b[0m, \u001b[38;5;34m148\u001b[0m, \u001b[38;5;34m16\u001b[0m)    │           \u001b[38;5;34m160\u001b[0m │\n",
              "├─────────────────────────────────┼────────────────────────┼───────────────┤\n",
              "│ conv2d_1 (\u001b[38;5;33mConv2D\u001b[0m)               │ (\u001b[38;5;45mNone\u001b[0m, \u001b[38;5;34m60\u001b[0m, \u001b[38;5;34m146\u001b[0m, \u001b[38;5;34m16\u001b[0m)    │         \u001b[38;5;34m2,320\u001b[0m │\n",
              "├─────────────────────────────────┼────────────────────────┼───────────────┤\n",
              "│ flatten (\u001b[38;5;33mFlatten\u001b[0m)               │ (\u001b[38;5;45mNone\u001b[0m, \u001b[38;5;34m140160\u001b[0m)         │             \u001b[38;5;34m0\u001b[0m │\n",
              "├─────────────────────────────────┼────────────────────────┼───────────────┤\n",
              "│ dense (\u001b[38;5;33mDense\u001b[0m)                   │ (\u001b[38;5;45mNone\u001b[0m, \u001b[38;5;34m128\u001b[0m)            │    \u001b[38;5;34m17,940,608\u001b[0m │\n",
              "├─────────────────────────────────┼────────────────────────┼───────────────┤\n",
              "│ dense_1 (\u001b[38;5;33mDense\u001b[0m)                 │ (\u001b[38;5;45mNone\u001b[0m, \u001b[38;5;34m1\u001b[0m)              │           \u001b[38;5;34m129\u001b[0m │\n",
              "└─────────────────────────────────┴────────────────────────┴───────────────┘\n"
            ],
            "text/html": [
              "<pre style=\"white-space:pre;overflow-x:auto;line-height:normal;font-family:Menlo,'DejaVu Sans Mono',consolas,'Courier New',monospace\">┏━━━━━━━━━━━━━━━━━━━━━━━━━━━━━━━━━┳━━━━━━━━━━━━━━━━━━━━━━━━┳━━━━━━━━━━━━━━━┓\n",
              "┃<span style=\"font-weight: bold\"> Layer (type)                    </span>┃<span style=\"font-weight: bold\"> Output Shape           </span>┃<span style=\"font-weight: bold\">       Param # </span>┃\n",
              "┡━━━━━━━━━━━━━━━━━━━━━━━━━━━━━━━━━╇━━━━━━━━━━━━━━━━━━━━━━━━╇━━━━━━━━━━━━━━━┩\n",
              "│ conv2d (<span style=\"color: #0087ff; text-decoration-color: #0087ff\">Conv2D</span>)                 │ (<span style=\"color: #00d7ff; text-decoration-color: #00d7ff\">None</span>, <span style=\"color: #00af00; text-decoration-color: #00af00\">62</span>, <span style=\"color: #00af00; text-decoration-color: #00af00\">148</span>, <span style=\"color: #00af00; text-decoration-color: #00af00\">16</span>)    │           <span style=\"color: #00af00; text-decoration-color: #00af00\">160</span> │\n",
              "├─────────────────────────────────┼────────────────────────┼───────────────┤\n",
              "│ conv2d_1 (<span style=\"color: #0087ff; text-decoration-color: #0087ff\">Conv2D</span>)               │ (<span style=\"color: #00d7ff; text-decoration-color: #00d7ff\">None</span>, <span style=\"color: #00af00; text-decoration-color: #00af00\">60</span>, <span style=\"color: #00af00; text-decoration-color: #00af00\">146</span>, <span style=\"color: #00af00; text-decoration-color: #00af00\">16</span>)    │         <span style=\"color: #00af00; text-decoration-color: #00af00\">2,320</span> │\n",
              "├─────────────────────────────────┼────────────────────────┼───────────────┤\n",
              "│ flatten (<span style=\"color: #0087ff; text-decoration-color: #0087ff\">Flatten</span>)               │ (<span style=\"color: #00d7ff; text-decoration-color: #00d7ff\">None</span>, <span style=\"color: #00af00; text-decoration-color: #00af00\">140160</span>)         │             <span style=\"color: #00af00; text-decoration-color: #00af00\">0</span> │\n",
              "├─────────────────────────────────┼────────────────────────┼───────────────┤\n",
              "│ dense (<span style=\"color: #0087ff; text-decoration-color: #0087ff\">Dense</span>)                   │ (<span style=\"color: #00d7ff; text-decoration-color: #00d7ff\">None</span>, <span style=\"color: #00af00; text-decoration-color: #00af00\">128</span>)            │    <span style=\"color: #00af00; text-decoration-color: #00af00\">17,940,608</span> │\n",
              "├─────────────────────────────────┼────────────────────────┼───────────────┤\n",
              "│ dense_1 (<span style=\"color: #0087ff; text-decoration-color: #0087ff\">Dense</span>)                 │ (<span style=\"color: #00d7ff; text-decoration-color: #00d7ff\">None</span>, <span style=\"color: #00af00; text-decoration-color: #00af00\">1</span>)              │           <span style=\"color: #00af00; text-decoration-color: #00af00\">129</span> │\n",
              "└─────────────────────────────────┴────────────────────────┴───────────────┘\n",
              "</pre>\n"
            ]
          },
          "metadata": {}
        },
        {
          "output_type": "display_data",
          "data": {
            "text/plain": [
              "\u001b[1m Total params: \u001b[0m\u001b[38;5;34m17,943,217\u001b[0m (68.45 MB)\n"
            ],
            "text/html": [
              "<pre style=\"white-space:pre;overflow-x:auto;line-height:normal;font-family:Menlo,'DejaVu Sans Mono',consolas,'Courier New',monospace\"><span style=\"font-weight: bold\"> Total params: </span><span style=\"color: #00af00; text-decoration-color: #00af00\">17,943,217</span> (68.45 MB)\n",
              "</pre>\n"
            ]
          },
          "metadata": {}
        },
        {
          "output_type": "display_data",
          "data": {
            "text/plain": [
              "\u001b[1m Trainable params: \u001b[0m\u001b[38;5;34m17,943,217\u001b[0m (68.45 MB)\n"
            ],
            "text/html": [
              "<pre style=\"white-space:pre;overflow-x:auto;line-height:normal;font-family:Menlo,'DejaVu Sans Mono',consolas,'Courier New',monospace\"><span style=\"font-weight: bold\"> Trainable params: </span><span style=\"color: #00af00; text-decoration-color: #00af00\">17,943,217</span> (68.45 MB)\n",
              "</pre>\n"
            ]
          },
          "metadata": {}
        },
        {
          "output_type": "display_data",
          "data": {
            "text/plain": [
              "\u001b[1m Non-trainable params: \u001b[0m\u001b[38;5;34m0\u001b[0m (0.00 B)\n"
            ],
            "text/html": [
              "<pre style=\"white-space:pre;overflow-x:auto;line-height:normal;font-family:Menlo,'DejaVu Sans Mono',consolas,'Courier New',monospace\"><span style=\"font-weight: bold\"> Non-trainable params: </span><span style=\"color: #00af00; text-decoration-color: #00af00\">0</span> (0.00 B)\n",
              "</pre>\n"
            ]
          },
          "metadata": {}
        }
      ]
    },
    {
      "cell_type": "code",
      "source": [
        "hist = model.fit(train, epochs=4, validation_data=test)"
      ],
      "metadata": {
        "colab": {
          "base_uri": "https://localhost:8080/"
        },
        "id": "mGm52ouyPIix",
        "outputId": "1cf418a5-c762-4cf0-af47-10749d143b9d"
      },
      "execution_count": null,
      "outputs": [
        {
          "output_type": "stream",
          "name": "stdout",
          "text": [
            "Epoch 1/4\n",
            "\u001b[1m36/36\u001b[0m \u001b[32m━━━━━━━━━━━━━━━━━━━━\u001b[0m\u001b[37m\u001b[0m \u001b[1m20s\u001b[0m 483ms/step - loss: 54.1936 - precision: 0.6381 - recall: 0.6584 - val_loss: 0.2099 - val_precision: 0.9286 - val_recall: 1.0000\n",
            "Epoch 2/4\n",
            "\u001b[1m36/36\u001b[0m \u001b[32m━━━━━━━━━━━━━━━━━━━━\u001b[0m\u001b[37m\u001b[0m \u001b[1m16s\u001b[0m 436ms/step - loss: 0.4806 - precision: 0.9495 - recall: 0.9989 - val_loss: 7.5749e-06 - val_precision: 1.0000 - val_recall: 1.0000\n",
            "Epoch 3/4\n",
            "\u001b[1m36/36\u001b[0m \u001b[32m━━━━━━━━━━━━━━━━━━━━\u001b[0m\u001b[37m\u001b[0m \u001b[1m16s\u001b[0m 439ms/step - loss: 1.7591e-07 - precision: 1.0000 - recall: 1.0000 - val_loss: 2.8656e-09 - val_precision: 1.0000 - val_recall: 1.0000\n",
            "Epoch 4/4\n",
            "\u001b[1m36/36\u001b[0m \u001b[32m━━━━━━━━━━━━━━━━━━━━\u001b[0m\u001b[37m\u001b[0m \u001b[1m16s\u001b[0m 438ms/step - loss: 0.0201 - precision: 1.0000 - recall: 0.9900 - val_loss: 5.4780e-06 - val_precision: 1.0000 - val_recall: 1.0000\n"
          ]
        }
      ]
    },
    {
      "cell_type": "code",
      "source": [
        "plt.figure(figsize=(8, 5))\n",
        "plt.plot(hist.history['loss'],'r', label='Training Loss')\n",
        "plt.plot(hist.history['val_loss'],'b', label='Validation Loss')\n",
        "plt.title('Loss Over Epochs')\n",
        "plt.xlabel('Epoch')\n",
        "plt.ylabel('Loss')\n",
        "plt.legend()\n",
        "plt.grid(True)\n",
        "plt.show()"
      ],
      "metadata": {
        "colab": {
          "base_uri": "https://localhost:8080/",
          "height": 448
        },
        "id": "0cTWGQFHR23O",
        "outputId": "97fbcb06-aca0-4189-a0ba-75e426795af8"
      },
      "execution_count": null,
      "outputs": [
        {
          "output_type": "display_data",
          "data": {
            "text/plain": [
              "<Figure size 800x500 with 1 Axes>"
            ],
            "image/png": "[encoded data removed]"
          },
          "metadata": {}
        }
      ]
    },
    {
      "cell_type": "code",
      "source": [
        "plt.figure(figsize=(8, 5))\n",
        "plt.plot(hist.history['precision'], 'r', label='Training Precision')\n",
        "plt.plot(hist.history['val_precision'], 'b', label='Validation Precision')\n",
        "plt.title('Precision Over Epochs')\n",
        "plt.xlabel('Epoch')\n",
        "plt.ylabel('Precision')\n",
        "plt.legend()\n",
        "plt.grid(True)\n",
        "plt.show()\n"
      ],
      "metadata": {
        "colab": {
          "base_uri": "https://localhost:8080/",
          "height": 434
        },
        "id": "XNvCtiIQSE9-",
        "outputId": "ae096ec0-a931-4be9-8ffc-4e661e1e45e9"
      },
      "execution_count": null,
      "outputs": [
        {
          "output_type": "display_data",
          "data": {
            "text/plain": [
              "<Figure size 800x500 with 1 Axes>"
            ],
            "image/png": "[encoded data removed]"
          },
          "metadata": {}
        }
      ]
    },
    {
      "cell_type": "code",
      "source": [
        "plt.title('Recall')\n",
        "plt.plot(hist.history['recall'], 'r')\n",
        "plt.plot(hist.history['val_recall'], 'b')\n",
        "plt.show()"
      ],
      "metadata": {
        "colab": {
          "base_uri": "https://localhost:8080/",
          "height": 452
        },
        "id": "nrRC2Ibv4HSO",
        "outputId": "1ad1f466-f709-4922-c543-cb2aab7e0384"
      },
      "execution_count": null,
      "outputs": [
        {
          "output_type": "display_data",
          "data": {
            "text/plain": [
              "<Figure size 640x480 with 1 Axes>"
            ],
            "image/png": "[encoded data removed]"
          },
          "metadata": {}
        }
      ]
    },
    {
      "cell_type": "code",
      "source": [
        "X_test, y_test = test.as_numpy_iterator().next()"
      ],
      "metadata": {
        "id": "32cm6MGo4KSq"
      },
      "execution_count": null,
      "outputs": []
    },
    {
      "cell_type": "code",
      "source": [
        "yhat = model.predict(X_test)"
      ],
      "metadata": {
        "colab": {
          "base_uri": "https://localhost:8080/"
        },
        "id": "pWlQbeJA4LDH",
        "outputId": "afef1d1a-295e-4c3f-a4e5-e4a5755dea44"
      },
      "execution_count": null,
      "outputs": [
        {
          "output_type": "stream",
          "name": "stdout",
          "text": [
            "\u001b[1m1/1\u001b[0m \u001b[32m━━━━━━━━━━━━━━━━━━━━\u001b[0m\u001b[37m\u001b[0m \u001b[1m0s\u001b[0m 169ms/step\n"
          ]
        }
      ]
    },
    {
      "cell_type": "code",
      "source": [
        "yhat = [1 if prediction > 0.5 else 0 for prediction in yhat]"
      ],
      "metadata": {
        "id": "5XOYiUwu4e9d"
      },
      "execution_count": null,
      "outputs": []
    },
    {
      "cell_type": "code",
      "source": [
        "import librosa\n",
        "import tensorflow as tf\n",
        "\n",
        "def load_mp3_16k_mono(filepath):\n",
        "    \"\"\"Load an audio file, convert it to float32, and resample to 16kHz mono.\"\"\"\n",
        "    audio, _ = librosa.load(filepath, sr=16000, mono=True)\n",
        "    return tf.convert_to_tensor(audio, dtype=tf.float32)"
      ],
      "metadata": {
        "id": "z6wKD1MO4n8K"
      },
      "execution_count": null,
      "outputs": []
    },
    {
      "cell_type": "code",
      "source": [
        "mp3 = \"/content/dataset/data/Forest Recordings/recording_00.mp3\""
      ],
      "metadata": {
        "id": "DXTY08Ix5bNV"
      },
      "execution_count": null,
      "outputs": []
    },
    {
      "cell_type": "code",
      "source": [
        "\n",
        "wav = load_mp3_16k_mono(mp3)"
      ],
      "metadata": {
        "id": "nc27Ahg251QB"
      },
      "execution_count": null,
      "outputs": []
    },
    {
      "cell_type": "code",
      "source": [
        "audio_slices = tf.keras.utils.timeseries_dataset_from_array(wav, wav, sequence_length=48000, sequence_stride=48000, batch_size=1)"
      ],
      "metadata": {
        "id": "kMEH2uWqJAMH"
      },
      "execution_count": null,
      "outputs": []
    },
    {
      "cell_type": "code",
      "source": [
        "samples, index = audio_slices.as_numpy_iterator().next()"
      ],
      "metadata": {
        "id": "rhF7dwrj6qFJ"
      },
      "execution_count": null,
      "outputs": []
    },
    {
      "cell_type": "code",
      "source": [
        "def preprocess_mp3(sample, index):\n",
        "    sample = sample[0]\n",
        "    zero_padding = tf.zeros([48000] - tf.shape(sample), dtype=tf.float32)\n",
        "    wav = tf.concat([zero_padding, sample],0)\n",
        "    spectrogram = tf.signal.stft(wav, frame_length=320, frame_step=32)\n",
        "    spectrogram = tf.abs(spectrogram)\n",
        "    spectrogram = tf.expand_dims(spectrogram, axis=2)\n",
        "    return spectrogram"
      ],
      "metadata": {
        "id": "BpG4hUQx7BR2"
      },
      "execution_count": null,
      "outputs": []
    },
    {
      "cell_type": "code",
      "source": [
        "audio_slices = tf.keras.utils.timeseries_dataset_from_array(wav, wav, sequence_length=16000, sequence_stride=16000, batch_size=1)\n",
        "audio_slices = audio_slices.map(preprocess_mp3)\n",
        "audio_slices = audio_slices.batch(64)\n",
        "yhat = model.predict(audio_slices)\n",
        "yhat = [1 if prediction > 0.5 else 0 for prediction in yhat]"
      ],
      "metadata": {
        "id": "lWrl8lJZ7D8-"
      },
      "execution_count": null,
      "outputs": []
    },
    {
      "cell_type": "code",
      "source": [
        "from itertools import groupby"
      ],
      "metadata": {
        "id": "HOr6rPmjJ0rA"
      },
      "execution_count": null,
      "outputs": []
    },
    {
      "cell_type": "code",
      "source": [
        "yhat = [key for key, group in groupby(yhat)]\n",
        "calls = tf.math.reduce_sum(yhat).numpy()"
      ],
      "metadata": {
        "id": "W67jJ7nLJ1GZ"
      },
      "execution_count": null,
      "outputs": []
    },
    {
      "cell_type": "code",
      "source": [
        "calls"
      ],
      "metadata": {
        "colab": {
          "base_uri": "https://localhost:8080/"
        },
        "id": "84Wzs4wpJ2dQ",
        "outputId": "1a0970b5-1485-40f0-b7ab-f648690bb01c"
      },
      "execution_count": null,
      "outputs": [
        {
          "output_type": "execute_result",
          "data": {
            "text/plain": [
              "np.int32(4)"
            ]
          },
          "metadata": {},
          "execution_count": 79
        }
      ]
    },
    {
      "cell_type": "code",
      "source": [
        "results = {}\n",
        "for file in os.listdir(os.path.join('data', 'Forest Recordings')):\n",
        "    FILEPATH = os.path.join('data','Forest Recordings', file)\n",
        "\n",
        "    wav = load_mp3_16k_mono(FILEPATH)\n",
        "    audio_slices = tf.keras.utils.timeseries_dataset_from_array(wav, wav, sequence_length=48000, sequence_stride=48000, batch_size=1)\n",
        "    audio_slices = audio_slices.map(preprocess_mp3)\n",
        "    audio_slices = audio_slices.batch(64)\n",
        "\n",
        "    yhat = model.predict(audio_slices)\n",
        "\n",
        "    results[file] = yhat"
      ],
      "metadata": {
        "id": "GzSNQjm_J3rU"
      },
      "execution_count": null,
      "outputs": []
    },
    {
      "cell_type": "code",
      "source": [
        "class_preds = {}\n",
        "for file, logits in results.items():\n",
        "    class_preds[file] = [1 if prediction > 0.99 else 0 for prediction in logits]"
      ],
      "metadata": {
        "id": "euUMKe3DYEwQ"
      },
      "execution_count": null,
      "outputs": []
    },
    {
      "cell_type": "code",
      "source": [
        "postprocessed = {}\n",
        "for file, scores in class_preds.items():\n",
        "    postprocessed[file] = tf.math.reduce_sum([key for key, group in groupby(scores)]).numpy()"
      ],
      "metadata": {
        "id": "_jlkeXPHKImx"
      },
      "execution_count": null,
      "outputs": []
    },
    {
      "cell_type": "code",
      "source": [
        "import csv\n",
        "with open('results.csv', 'w', newline='') as f:\n",
        "    writer = csv.writer(f, delimiter=',')\n",
        "    writer.writerow(['recording', 'capuchin_calls'])\n",
        "    for key, value in postprocessed.items():\n",
        "        writer.writerow([key, value])"
      ],
      "metadata": {
        "id": "tJIiWMwLc9Gr"
      },
      "execution_count": null,
      "outputs": []
    }
  ]
}